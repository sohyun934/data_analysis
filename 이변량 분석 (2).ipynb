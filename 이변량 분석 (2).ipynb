{
 "cells": [
  {
   "cell_type": "markdown",
   "id": "20da05a9",
   "metadata": {},
   "source": [
    "# 이변량 분석 (2)"
   ]
  },
  {
   "cell_type": "code",
   "execution_count": 2,
   "id": "0d06183d",
   "metadata": {},
   "outputs": [],
   "source": [
    "# 라이브러리 불러오기\n",
    "\n",
    "import pandas as pd\n",
    "import numpy as np\n",
    "import random as rd\n",
    "\n",
    "import matplotlib.pyplot as plt\n",
    "import seaborn as sns\n",
    "\n",
    "import scipy.stats as spst\n",
    "import numpy as np\n",
    "import random as rd\n",
    "import statsmodels.api as sm\n",
    "\n",
    "# 데이터 불러오기\n",
    "titanic = pd.read_csv('https://raw.githubusercontent.com/DA4BAM/dataset/master/titanic.0.csv')\n",
    "iris = pd.read_csv('https://raw.githubusercontent.com/DA4BAM/dataset/master/iris.csv')\n",
    "air = pd.read_csv('https://raw.githubusercontent.com/DA4BAM/dataset/master/air2.csv')"
   ]
  },
  {
   "cell_type": "markdown",
   "id": "dd23ef7b",
   "metadata": {},
   "source": [
    "### 3) 범주 vs 숫자"
   ]
  },
  {
   "cell_type": "markdown",
   "id": "2aa13dec",
   "metadata": {},
   "source": [
    "* 범주별 숫자를 비교할 때 중요한 관점은 '평균'이다.\n",
    "\n",
    "> 시각화 : barplot, boxplot  \n",
    "> 수치화(가설검정 도구) : t-test, anova"
   ]
  },
  {
   "cell_type": "markdown",
   "id": "1abec4bf",
   "metadata": {},
   "source": [
    "* barplot"
   ]
  },
  {
   "cell_type": "code",
   "execution_count": 2,
   "id": "f4779fd1",
   "metadata": {},
   "outputs": [
    {
     "data": {
      "image/png": "[encoded data removed]",
      "text/plain": [
       "<Figure size 432x288 with 1 Axes>"
      ]
     },
     "metadata": {
      "needs_background": "light"
     },
     "output_type": "display_data"
    }
   ],
   "source": [
    "sns.barplot(x='Survived', y='Age', data=titanic)\n",
    "plt.show()"
   ]
  },
  {
   "cell_type": "markdown",
   "id": "0d95fe28",
   "metadata": {},
   "source": [
    "> 생존 여부별 나이 평균의 차이가 크지 않아보인다."
   ]
  },
  {
   "cell_type": "code",
   "execution_count": 3,
   "id": "6c98919c",
   "metadata": {},
   "outputs": [
    {
     "data": {
      "image/png": "[encoded data removed]",
      "text/plain": [
       "<Figure size 432x288 with 1 Axes>"
      ]
     },
     "metadata": {
      "needs_background": "light"
     },
     "output_type": "display_data"
    }
   ],
   "source": [
    "sns.boxplot(x='Survived', y='Age', data=titanic)\n",
    "plt.show()"
   ]
  },
  {
   "cell_type": "code",
   "execution_count": 7,
   "id": "7f71984c",
   "metadata": {},
   "outputs": [
    {
     "data": {
      "image/png": "[encoded data removed]",
      "text/plain": [
       "<Figure size 432x288 with 2 Axes>"
      ]
     },
     "metadata": {
      "needs_background": "light"
     },
     "output_type": "display_data"
    }
   ],
   "source": [
    "plt.subplot(1, 2, 1)\n",
    "sns.barplot(x='Embarked', y='Age', data=titanic)\n",
    "\n",
    "plt.subplot(1, 2, 2)\n",
    "sns.boxplot(x='Embarked', y='Age', data=titanic)\n",
    "\n",
    "plt.tight_layout()\n",
    "plt.show()"
   ]
  },
  {
   "cell_type": "markdown",
   "id": "7e6b55c4",
   "metadata": {},
   "source": [
    "> 승선지별 나이 평균차가 크지 않아 보인다.  \n",
    "> Q : 신뢰구간이 넓어서 신뢰성이 떨어진다."
   ]
  },
  {
   "cell_type": "markdown",
   "id": "ca01f9ab",
   "metadata": {},
   "source": [
    "* t-test (t 검정)"
   ]
  },
  {
   "cell_type": "code",
   "execution_count": 10,
   "id": "e8e8d718",
   "metadata": {},
   "outputs": [
    {
     "data": {
      "text/plain": [
       "Ttest_indResult(statistic=2.06668694625381, pvalue=0.03912465401348249)"
      ]
     },
     "execution_count": 10,
     "metadata": {},
     "output_type": "execute_result"
    }
   ],
   "source": [
    "# 결측치 처리\n",
    "tmp = titanic.loc[titanic['Age'].notnull()]\n",
    "\n",
    "# 범주별로 데이터 나누기\n",
    "survived = tmp.loc[tmp['Survived'] == 1, 'Age']\n",
    "died = tmp.loc[tmp['Survived'] == 0, 'Age']\n",
    "\n",
    "# t-test\n",
    "spst.ttest_ind(died, survived)"
   ]
  },
  {
   "cell_type": "markdown",
   "id": "9af69656",
   "metadata": {},
   "source": [
    "> p-value가 0.05 미만이므로 생존 여부에 따른 나이 평균의 차이가 있다는 가설은 참"
   ]
  },
  {
   "cell_type": "markdown",
   "id": "2b2765e7",
   "metadata": {},
   "source": [
    "* anova (분산 분석)"
   ]
  },
  {
   "cell_type": "code",
   "execution_count": 13,
   "id": "2394239d",
   "metadata": {},
   "outputs": [
    {
     "data": {
      "text/plain": [
       "F_onewayResult(statistic=57.443484340676214, pvalue=7.487984171959904e-24)"
      ]
     },
     "execution_count": 13,
     "metadata": {},
     "output_type": "execute_result"
    }
   ],
   "source": [
    "tmp = titanic.loc[titanic['Age'].notnull()]\n",
    "\n",
    "P_1 = tmp.loc[tmp['Pclass'] == 1, 'Age']\n",
    "P_2 = tmp.loc[tmp['Pclass'] == 2, 'Age']\n",
    "P_3 = tmp.loc[tmp['Pclass'] == 3, 'Age']\n",
    "\n",
    "spst.f_oneway(P_1, P_2, P_3)"
   ]
  },
  {
   "cell_type": "code",
   "execution_count": 14,
   "id": "f63ef11a",
   "metadata": {},
   "outputs": [
    {
     "data": {
      "text/plain": [
       "F_onewayResult(statistic=38.14030520011266, pvalue=1.2896450252631794e-16)"
      ]
     },
     "execution_count": 14,
     "metadata": {},
     "output_type": "execute_result"
    }
   ],
   "source": [
    "temp = titanic.loc[titanic['Embarked'].notnull()]\n",
    "\n",
    "e_s = temp.loc[temp['Embarked'] == 'S', 'Fare']\n",
    "e_c = temp.loc[temp['Embarked'] == 'C', 'Fare']\n",
    "e_q = temp.loc[temp['Embarked'] == 'Q', 'Fare']\n",
    "\n",
    "spst.f_oneway(e_s, e_c, e_q)"
   ]
  },
  {
   "cell_type": "markdown",
   "id": "95deb8bb",
   "metadata": {},
   "source": [
    "> 통계량을 비교해보면, Embarked 보다 Pclass의 통계량이 더 크다.  \n",
    "> 따라서, Age에 대하여 Pclass가 더 중요한 변수이다."
   ]
  },
  {
   "cell_type": "markdown",
   "id": "e8e55d3c",
   "metadata": {},
   "source": [
    "### 4) 숫자 vs 범주"
   ]
  },
  {
   "cell_type": "markdown",
   "id": "8b87e548",
   "metadata": {},
   "source": [
    "> 시각화 : histogram, densityplot  \n",
    "> 수치화(가설검정 도구) : 로지스틱 회귀 모델"
   ]
  },
  {
   "cell_type": "markdown",
   "id": "446a7e5f",
   "metadata": {},
   "source": [
    "* histogram"
   ]
  },
  {
   "cell_type": "code",
   "execution_count": 39,
   "id": "9663aa0a",
   "metadata": {},
   "outputs": [
    {
     "data": {
      "image/png": "[encoded data removed]",
      "text/plain": [
       "<Figure size 432x288 with 2 Axes>"
      ]
     },
     "metadata": {
      "needs_background": "light"
     },
     "output_type": "display_data"
    }
   ],
   "source": [
    "plt.subplot(1, 2, 1)\n",
    "sns.histplot(x='Age', data=titanic, bins=20, hue='Survived')\n",
    "\n",
    "plt.subplot(1, 2, 2)\n",
    "sns.histplot(x='Fare', data=titanic, bins=20, hue='Survived')\n",
    "\n",
    "plt.tight_layout()\n",
    "plt.show()"
   ]
  },
  {
   "cell_type": "markdown",
   "id": "b1eb3d1a",
   "metadata": {},
   "source": [
    "* densityplot"
   ]
  },
  {
   "cell_type": "code",
   "execution_count": 10,
   "id": "3de6b2da",
   "metadata": {
    "scrolled": true
   },
   "outputs": [
    {
     "name": "stdout",
     "output_type": "stream",
     "text": [
      "\n",
      "타이타닉호 생존율:  0.3838383838383838\n"
     ]
    },
    {
     "data": {
      "image/png": "[encoded data removed]",
      "text/plain": [
       "<Figure size 432x288 with 2 Axes>"
      ]
     },
     "metadata": {
      "needs_background": "light"
     },
     "output_type": "display_data"
    }
   ],
   "source": [
    "print('\\n타이타닉호 생존율: ', titanic['Survived'].mean())\n",
    "\n",
    "plt.subplot(2, 1, 1)\n",
    "sns.kdeplot(x='Age', data=titanic, hue='Survived', common_norm=False)\n",
    "\n",
    "plt.subplot(2, 1, 2)\n",
    "sns.kdeplot(x='Fare', data=titanic, hue='Survived', common_norm=False)\n",
    "\n",
    "plt.tight_layout()\n",
    "plt.show()"
   ]
  },
  {
   "cell_type": "markdown",
   "id": "17a356c1",
   "metadata": {},
   "source": [
    "* Age\n",
    "> 0 ~ 10대 후반 : 전체 생존율인 38% 보다 높은 생존율을 보인다.  \n",
    "> 10대 후반 ~ 30대 중반, 60 ~ 80대 : 전체 사망률보다 높은 사망률을 보인다.\n",
    "\n",
    "* Fare  \n",
    "> 0 ~ 50 : 전체 사망률보다 높은 사망률을 보인다.  \n",
    "> 50 ~ : 전체 생존률보다 높은 생존율을 보인다."
   ]
  },
  {
   "cell_type": "markdown",
   "id": "1c7d93a7",
   "metadata": {},
   "source": [
    "* 로지스틱 회귀 모델 : 숫자 --> 범주 분석을 위한 미봉책 (적절한 가설검정 도구 X)"
   ]
  },
  {
   "cell_type": "code",
   "execution_count": 44,
   "id": "79594b43",
   "metadata": {},
   "outputs": [
    {
     "name": "stdout",
     "output_type": "stream",
     "text": [
      "Optimization terminated successfully.\n",
      "         Current function value: 0.672504\n",
      "         Iterations 4\n",
      "Age    9.909841e-08\n",
      "dtype: float64\n"
     ]
    }
   ],
   "source": [
    "titanic2 = titanic.loc[titanic['Age'].notnull()]\n",
    "model = sm.Logit(titanic2['Survived'], titanic2['Age'])\n",
    "result = model.fit()\n",
    "print(result.pvalues)"
   ]
  },
  {
   "cell_type": "code",
   "execution_count": 45,
   "id": "2bbb4597",
   "metadata": {
    "scrolled": true
   },
   "outputs": [
    {
     "name": "stdout",
     "output_type": "stream",
     "text": [
      "Optimization terminated successfully.\n",
      "         Current function value: 0.689550\n",
      "         Iterations 4\n",
      "Fare    0.014925\n",
      "dtype: float64\n"
     ]
    }
   ],
   "source": [
    "model = sm.Logit(titanic['Survived'], titanic['Fare'])\n",
    "result = model.fit()\n",
    "print(result.pvalues)"
   ]
  },
  {
   "cell_type": "markdown",
   "id": "cd5891dd",
   "metadata": {},
   "source": [
    "> 그래프 상으로는 Fare별 생존 여부 차이가 더 커보였다.  \n",
    "> 그런데 변수가 Age일 때 pvalue가 훨씬 0에 가깝다."
   ]
  }
 ],
 "metadata": {
  "kernelspec": {
   "display_name": "Python 3",
   "language": "python",
   "name": "python3"
  },
  "language_info": {
   "codemirror_mode": {
    "name": "ipython",
    "version": 3
   },
   "file_extension": ".py",
   "mimetype": "text/x-python",
   "name": "python",
   "nbconvert_exporter": "python",
   "pygments_lexer": "ipython3",
   "version": "3.8.8"
  }
 },
 "nbformat": 4,
 "nbformat_minor": 5
}
