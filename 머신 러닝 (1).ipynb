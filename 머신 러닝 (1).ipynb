{
 "cells": [
  {
   "cell_type": "markdown",
   "id": "da35554b",
   "metadata": {},
   "source": [
    "# 머신 러닝 (1)"
   ]
  },
  {
   "cell_type": "markdown",
   "id": "0ab50c9f",
   "metadata": {},
   "source": [
    "## 1) LinearRegression"
   ]
  },
  {
   "cell_type": "markdown",
   "id": "2e01623c",
   "metadata": {},
   "source": [
    "* 회귀 알고리즘\n",
    "* 실제 데이터와의 오차를 최소화 하는 최적의 회귀선을 찾는 과정"
   ]
  },
  {
   "cell_type": "code",
   "execution_count": 1,
   "id": "4c0493b1",
   "metadata": {},
   "outputs": [],
   "source": [
    "# 라이브러리 불러오기\n",
    "import numpy as np\n",
    "import pandas as pd\n",
    "import matplotlib.pyplot as plt\n",
    "import seaborn as sns\n",
    "\n",
    "%config InlineBackend.figure_format = 'retina' # 차트를 선명하게"
   ]
  },
  {
   "cell_type": "code",
   "execution_count": 2,
   "id": "af8a48e6",
   "metadata": {},
   "outputs": [],
   "source": [
    "# 데이터 읽어오기\n",
    "path = 'https://raw.githubusercontent.com/Jangrae/csv/master/airquality_simple.csv'\n",
    "data = pd.read_csv(path)"
   ]
  },
  {
   "cell_type": "markdown",
   "id": "6f2b88c4",
   "metadata": {},
   "source": [
    "### 1. 데이터 이해"
   ]
  },
  {
   "cell_type": "code",
   "execution_count": 3,
   "id": "7f3c6cb5",
   "metadata": {},
   "outputs": [
    {
     "data": {
      "text/html": [
       "<div>\n",
       "<style scoped>\n",
       "    .dataframe tbody tr th:only-of-type {\n",
       "        vertical-align: middle;\n",
       "    }\n",
       "\n",
       "    .dataframe tbody tr th {\n",
       "        vertical-align: top;\n",
       "    }\n",
       "\n",
       "    .dataframe thead th {\n",
       "        text-align: right;\n",
       "    }\n",
       "</style>\n",
       "<table border=\"1\" class=\"dataframe\">\n",
       "  <thead>\n",
       "    <tr style=\"text-align: right;\">\n",
       "      <th></th>\n",
       "      <th>Ozone</th>\n",
       "      <th>Solar.R</th>\n",
       "      <th>Wind</th>\n",
       "      <th>Temp</th>\n",
       "      <th>Month</th>\n",
       "      <th>Day</th>\n",
       "    </tr>\n",
       "  </thead>\n",
       "  <tbody>\n",
       "    <tr>\n",
       "      <th>0</th>\n",
       "      <td>41</td>\n",
       "      <td>190.0</td>\n",
       "      <td>7.4</td>\n",
       "      <td>67</td>\n",
       "      <td>5</td>\n",
       "      <td>1</td>\n",
       "    </tr>\n",
       "    <tr>\n",
       "      <th>1</th>\n",
       "      <td>36</td>\n",
       "      <td>118.0</td>\n",
       "      <td>8.0</td>\n",
       "      <td>72</td>\n",
       "      <td>5</td>\n",
       "      <td>2</td>\n",
       "    </tr>\n",
       "    <tr>\n",
       "      <th>2</th>\n",
       "      <td>12</td>\n",
       "      <td>149.0</td>\n",
       "      <td>12.6</td>\n",
       "      <td>74</td>\n",
       "      <td>5</td>\n",
       "      <td>3</td>\n",
       "    </tr>\n",
       "    <tr>\n",
       "      <th>3</th>\n",
       "      <td>18</td>\n",
       "      <td>313.0</td>\n",
       "      <td>11.5</td>\n",
       "      <td>62</td>\n",
       "      <td>5</td>\n",
       "      <td>4</td>\n",
       "    </tr>\n",
       "    <tr>\n",
       "      <th>4</th>\n",
       "      <td>19</td>\n",
       "      <td>NaN</td>\n",
       "      <td>14.3</td>\n",
       "      <td>56</td>\n",
       "      <td>5</td>\n",
       "      <td>5</td>\n",
       "    </tr>\n",
       "  </tbody>\n",
       "</table>\n",
       "</div>"
      ],
      "text/plain": [
       "   Ozone  Solar.R  Wind  Temp  Month  Day\n",
       "0     41    190.0   7.4    67      5    1\n",
       "1     36    118.0   8.0    72      5    2\n",
       "2     12    149.0  12.6    74      5    3\n",
       "3     18    313.0  11.5    62      5    4\n",
       "4     19      NaN  14.3    56      5    5"
      ]
     },
     "execution_count": 3,
     "metadata": {},
     "output_type": "execute_result"
    }
   ],
   "source": [
    "# 상위 데이터 확인\n",
    "data.head()"
   ]
  },
  {
   "cell_type": "code",
   "execution_count": 4,
   "id": "c94c82d0",
   "metadata": {},
   "outputs": [
    {
     "name": "stdout",
     "output_type": "stream",
     "text": [
      "<class 'pandas.core.frame.DataFrame'>\n",
      "RangeIndex: 153 entries, 0 to 152\n",
      "Data columns (total 6 columns):\n",
      " #   Column   Non-Null Count  Dtype  \n",
      "---  ------   --------------  -----  \n",
      " 0   Ozone    153 non-null    int64  \n",
      " 1   Solar.R  146 non-null    float64\n",
      " 2   Wind     153 non-null    float64\n",
      " 3   Temp     153 non-null    int64  \n",
      " 4   Month    153 non-null    int64  \n",
      " 5   Day      153 non-null    int64  \n",
      "dtypes: float64(2), int64(4)\n",
      "memory usage: 7.3 KB\n"
     ]
    }
   ],
   "source": [
    "# 열 정보 확인\n",
    "data.info()"
   ]
  },
  {
   "cell_type": "code",
   "execution_count": 5,
   "id": "16486c92",
   "metadata": {},
   "outputs": [
    {
     "data": {
      "text/html": [
       "<div>\n",
       "<style scoped>\n",
       "    .dataframe tbody tr th:only-of-type {\n",
       "        vertical-align: middle;\n",
       "    }\n",
       "\n",
       "    .dataframe tbody tr th {\n",
       "        vertical-align: top;\n",
       "    }\n",
       "\n",
       "    .dataframe thead th {\n",
       "        text-align: right;\n",
       "    }\n",
       "</style>\n",
       "<table border=\"1\" class=\"dataframe\">\n",
       "  <thead>\n",
       "    <tr style=\"text-align: right;\">\n",
       "      <th></th>\n",
       "      <th>Ozone</th>\n",
       "      <th>Solar.R</th>\n",
       "      <th>Wind</th>\n",
       "      <th>Temp</th>\n",
       "      <th>Month</th>\n",
       "      <th>Day</th>\n",
       "    </tr>\n",
       "  </thead>\n",
       "  <tbody>\n",
       "    <tr>\n",
       "      <th>count</th>\n",
       "      <td>153.000000</td>\n",
       "      <td>146.000000</td>\n",
       "      <td>153.000000</td>\n",
       "      <td>153.000000</td>\n",
       "      <td>153.000000</td>\n",
       "      <td>153.000000</td>\n",
       "    </tr>\n",
       "    <tr>\n",
       "      <th>mean</th>\n",
       "      <td>42.052288</td>\n",
       "      <td>185.931507</td>\n",
       "      <td>9.957516</td>\n",
       "      <td>77.882353</td>\n",
       "      <td>6.993464</td>\n",
       "      <td>15.803922</td>\n",
       "    </tr>\n",
       "    <tr>\n",
       "      <th>std</th>\n",
       "      <td>30.156127</td>\n",
       "      <td>90.058422</td>\n",
       "      <td>3.523001</td>\n",
       "      <td>9.465270</td>\n",
       "      <td>1.416522</td>\n",
       "      <td>8.864520</td>\n",
       "    </tr>\n",
       "    <tr>\n",
       "      <th>min</th>\n",
       "      <td>1.000000</td>\n",
       "      <td>7.000000</td>\n",
       "      <td>1.700000</td>\n",
       "      <td>56.000000</td>\n",
       "      <td>5.000000</td>\n",
       "      <td>1.000000</td>\n",
       "    </tr>\n",
       "    <tr>\n",
       "      <th>25%</th>\n",
       "      <td>20.000000</td>\n",
       "      <td>115.750000</td>\n",
       "      <td>7.400000</td>\n",
       "      <td>72.000000</td>\n",
       "      <td>6.000000</td>\n",
       "      <td>8.000000</td>\n",
       "    </tr>\n",
       "    <tr>\n",
       "      <th>50%</th>\n",
       "      <td>34.000000</td>\n",
       "      <td>205.000000</td>\n",
       "      <td>9.700000</td>\n",
       "      <td>79.000000</td>\n",
       "      <td>7.000000</td>\n",
       "      <td>16.000000</td>\n",
       "    </tr>\n",
       "    <tr>\n",
       "      <th>75%</th>\n",
       "      <td>59.000000</td>\n",
       "      <td>258.750000</td>\n",
       "      <td>11.500000</td>\n",
       "      <td>85.000000</td>\n",
       "      <td>8.000000</td>\n",
       "      <td>23.000000</td>\n",
       "    </tr>\n",
       "    <tr>\n",
       "      <th>max</th>\n",
       "      <td>168.000000</td>\n",
       "      <td>334.000000</td>\n",
       "      <td>20.700000</td>\n",
       "      <td>97.000000</td>\n",
       "      <td>9.000000</td>\n",
       "      <td>31.000000</td>\n",
       "    </tr>\n",
       "  </tbody>\n",
       "</table>\n",
       "</div>"
      ],
      "text/plain": [
       "            Ozone     Solar.R        Wind        Temp       Month         Day\n",
       "count  153.000000  146.000000  153.000000  153.000000  153.000000  153.000000\n",
       "mean    42.052288  185.931507    9.957516   77.882353    6.993464   15.803922\n",
       "std     30.156127   90.058422    3.523001    9.465270    1.416522    8.864520\n",
       "min      1.000000    7.000000    1.700000   56.000000    5.000000    1.000000\n",
       "25%     20.000000  115.750000    7.400000   72.000000    6.000000    8.000000\n",
       "50%     34.000000  205.000000    9.700000   79.000000    7.000000   16.000000\n",
       "75%     59.000000  258.750000   11.500000   85.000000    8.000000   23.000000\n",
       "max    168.000000  334.000000   20.700000   97.000000    9.000000   31.000000"
      ]
     },
     "execution_count": 5,
     "metadata": {},
     "output_type": "execute_result"
    }
   ],
   "source": [
    "# 기초통계량 확인\n",
    "data.describe()"
   ]
  },
  {
   "cell_type": "code",
   "execution_count": 6,
   "id": "3cc7f947",
   "metadata": {},
   "outputs": [
    {
     "data": {
      "text/html": [
       "<div>\n",
       "<style scoped>\n",
       "    .dataframe tbody tr th:only-of-type {\n",
       "        vertical-align: middle;\n",
       "    }\n",
       "\n",
       "    .dataframe tbody tr th {\n",
       "        vertical-align: top;\n",
       "    }\n",
       "\n",
       "    .dataframe thead th {\n",
       "        text-align: right;\n",
       "    }\n",
       "</style>\n",
       "<table border=\"1\" class=\"dataframe\">\n",
       "  <thead>\n",
       "    <tr style=\"text-align: right;\">\n",
       "      <th></th>\n",
       "      <th>Ozone</th>\n",
       "      <th>Solar.R</th>\n",
       "      <th>Wind</th>\n",
       "      <th>Temp</th>\n",
       "      <th>Month</th>\n",
       "      <th>Day</th>\n",
       "    </tr>\n",
       "  </thead>\n",
       "  <tbody>\n",
       "    <tr>\n",
       "      <th>Ozone</th>\n",
       "      <td>1.000000</td>\n",
       "      <td>0.280068</td>\n",
       "      <td>-0.605478</td>\n",
       "      <td>0.683372</td>\n",
       "      <td>0.174197</td>\n",
       "      <td>0.004419</td>\n",
       "    </tr>\n",
       "    <tr>\n",
       "      <th>Solar.R</th>\n",
       "      <td>0.280068</td>\n",
       "      <td>1.000000</td>\n",
       "      <td>-0.056792</td>\n",
       "      <td>0.275840</td>\n",
       "      <td>-0.075301</td>\n",
       "      <td>-0.150275</td>\n",
       "    </tr>\n",
       "    <tr>\n",
       "      <th>Wind</th>\n",
       "      <td>-0.605478</td>\n",
       "      <td>-0.056792</td>\n",
       "      <td>1.000000</td>\n",
       "      <td>-0.457988</td>\n",
       "      <td>-0.178293</td>\n",
       "      <td>0.027181</td>\n",
       "    </tr>\n",
       "    <tr>\n",
       "      <th>Temp</th>\n",
       "      <td>0.683372</td>\n",
       "      <td>0.275840</td>\n",
       "      <td>-0.457988</td>\n",
       "      <td>1.000000</td>\n",
       "      <td>0.420947</td>\n",
       "      <td>-0.130593</td>\n",
       "    </tr>\n",
       "    <tr>\n",
       "      <th>Month</th>\n",
       "      <td>0.174197</td>\n",
       "      <td>-0.075301</td>\n",
       "      <td>-0.178293</td>\n",
       "      <td>0.420947</td>\n",
       "      <td>1.000000</td>\n",
       "      <td>-0.007962</td>\n",
       "    </tr>\n",
       "    <tr>\n",
       "      <th>Day</th>\n",
       "      <td>0.004419</td>\n",
       "      <td>-0.150275</td>\n",
       "      <td>0.027181</td>\n",
       "      <td>-0.130593</td>\n",
       "      <td>-0.007962</td>\n",
       "      <td>1.000000</td>\n",
       "    </tr>\n",
       "  </tbody>\n",
       "</table>\n",
       "</div>"
      ],
      "text/plain": [
       "            Ozone   Solar.R      Wind      Temp     Month       Day\n",
       "Ozone    1.000000  0.280068 -0.605478  0.683372  0.174197  0.004419\n",
       "Solar.R  0.280068  1.000000 -0.056792  0.275840 -0.075301 -0.150275\n",
       "Wind    -0.605478 -0.056792  1.000000 -0.457988 -0.178293  0.027181\n",
       "Temp     0.683372  0.275840 -0.457988  1.000000  0.420947 -0.130593\n",
       "Month    0.174197 -0.075301 -0.178293  0.420947  1.000000 -0.007962\n",
       "Day      0.004419 -0.150275  0.027181 -0.130593 -0.007962  1.000000"
      ]
     },
     "execution_count": 6,
     "metadata": {},
     "output_type": "execute_result"
    }
   ],
   "source": [
    "# 상관관계 확인\n",
    "data.corr()"
   ]
  },
  {
   "cell_type": "markdown",
   "id": "66a1b95a",
   "metadata": {},
   "source": [
    "### 2. 데이터 전처리"
   ]
  },
  {
   "cell_type": "code",
   "execution_count": 7,
   "id": "66d6e49b",
   "metadata": {},
   "outputs": [
    {
     "data": {
      "text/plain": [
       "Ozone      0\n",
       "Solar.R    7\n",
       "Wind       0\n",
       "Temp       0\n",
       "Month      0\n",
       "Day        0\n",
       "dtype: int64"
      ]
     },
     "execution_count": 7,
     "metadata": {},
     "output_type": "execute_result"
    }
   ],
   "source": [
    "# 결측치 확인\n",
    "data.isna().sum()"
   ]
  },
  {
   "cell_type": "code",
   "execution_count": 8,
   "id": "4c7a6501",
   "metadata": {},
   "outputs": [
    {
     "data": {
      "text/plain": [
       "Ozone      0\n",
       "Solar.R    0\n",
       "Wind       0\n",
       "Temp       0\n",
       "Month      0\n",
       "Day        0\n",
       "dtype: int64"
      ]
     },
     "execution_count": 8,
     "metadata": {},
     "output_type": "execute_result"
    }
   ],
   "source": [
    "# 시계열 데이터이므로 앞의 데이터로 결측치 채우기\n",
    "data.fillna(method='ffill', inplace=True)\n",
    "\n",
    "# 확인\n",
    "data.isna().sum()"
   ]
  },
  {
   "cell_type": "code",
   "execution_count": 9,
   "id": "0c74ea59",
   "metadata": {},
   "outputs": [
    {
     "data": {
      "text/html": [
       "<div>\n",
       "<style scoped>\n",
       "    .dataframe tbody tr th:only-of-type {\n",
       "        vertical-align: middle;\n",
       "    }\n",
       "\n",
       "    .dataframe tbody tr th {\n",
       "        vertical-align: top;\n",
       "    }\n",
       "\n",
       "    .dataframe thead th {\n",
       "        text-align: right;\n",
       "    }\n",
       "</style>\n",
       "<table border=\"1\" class=\"dataframe\">\n",
       "  <thead>\n",
       "    <tr style=\"text-align: right;\">\n",
       "      <th></th>\n",
       "      <th>Ozone</th>\n",
       "      <th>Solar.R</th>\n",
       "      <th>Wind</th>\n",
       "      <th>Temp</th>\n",
       "    </tr>\n",
       "  </thead>\n",
       "  <tbody>\n",
       "    <tr>\n",
       "      <th>0</th>\n",
       "      <td>41</td>\n",
       "      <td>190.0</td>\n",
       "      <td>7.4</td>\n",
       "      <td>67</td>\n",
       "    </tr>\n",
       "    <tr>\n",
       "      <th>1</th>\n",
       "      <td>36</td>\n",
       "      <td>118.0</td>\n",
       "      <td>8.0</td>\n",
       "      <td>72</td>\n",
       "    </tr>\n",
       "    <tr>\n",
       "      <th>2</th>\n",
       "      <td>12</td>\n",
       "      <td>149.0</td>\n",
       "      <td>12.6</td>\n",
       "      <td>74</td>\n",
       "    </tr>\n",
       "    <tr>\n",
       "      <th>3</th>\n",
       "      <td>18</td>\n",
       "      <td>313.0</td>\n",
       "      <td>11.5</td>\n",
       "      <td>62</td>\n",
       "    </tr>\n",
       "    <tr>\n",
       "      <th>4</th>\n",
       "      <td>19</td>\n",
       "      <td>313.0</td>\n",
       "      <td>14.3</td>\n",
       "      <td>56</td>\n",
       "    </tr>\n",
       "  </tbody>\n",
       "</table>\n",
       "</div>"
      ],
      "text/plain": [
       "   Ozone  Solar.R  Wind  Temp\n",
       "0     41    190.0   7.4    67\n",
       "1     36    118.0   8.0    72\n",
       "2     12    149.0  12.6    74\n",
       "3     18    313.0  11.5    62\n",
       "4     19    313.0  14.3    56"
      ]
     },
     "execution_count": 9,
     "metadata": {},
     "output_type": "execute_result"
    }
   ],
   "source": [
    "# 오존 농도 예측과 관련 없는 변수 제거\n",
    "col_x = ['Month', 'Day']\n",
    "data.drop(col_x, axis=1, inplace=True)\n",
    "\n",
    "data.head()"
   ]
  },
  {
   "cell_type": "code",
   "execution_count": 10,
   "id": "77657678",
   "metadata": {},
   "outputs": [],
   "source": [
    "# x, y 분리\n",
    "target = 'Ozone'\n",
    "x = data.drop(target, axis=1)\n",
    "y = data[target]"
   ]
  },
  {
   "cell_type": "code",
   "execution_count": 11,
   "id": "ef4f38a0",
   "metadata": {},
   "outputs": [],
   "source": [
    "# 정규화\n",
    "x = (x - x.min()) / (x.max() - x.min())"
   ]
  },
  {
   "cell_type": "code",
   "execution_count": 12,
   "id": "02c8c780",
   "metadata": {},
   "outputs": [],
   "source": [
    "# 학습용, 평가용 데이터 7:3 분리\n",
    "from sklearn.model_selection import train_test_split\n",
    "x_train, x_test, y_train, y_test = train_test_split(x, y, test_size=0.3, random_state=2022)"
   ]
  },
  {
   "cell_type": "markdown",
   "id": "1bf28c15",
   "metadata": {},
   "source": [
    "### 3. 모델링"
   ]
  },
  {
   "cell_type": "code",
   "execution_count": 13,
   "id": "7ea36f20",
   "metadata": {},
   "outputs": [
    {
     "name": "stdout",
     "output_type": "stream",
     "text": [
      "['Solar.R', 'Wind', 'Temp']\n",
      "가중치:  [ 15.28688712 -69.42097028  56.08922161]\n",
      "y 절편:  33.06646056724142\n",
      "------------------------------\n",
      "MAE:  13.377390093696073\n",
      "R2-Score:  0.6673645301519779\n"
     ]
    }
   ],
   "source": [
    "# 회귀 알고리즘, 평가 지표 불러오기\n",
    "from sklearn.linear_model import LinearRegression\n",
    "from sklearn.metrics import mean_absolute_error, r2_score\n",
    "\n",
    "# 모델 선언\n",
    "model = LinearRegression()\n",
    "\n",
    "# 학습\n",
    "model.fit(x_train, y_train)\n",
    "\n",
    "# 회귀계수 확인\n",
    "print(list(x)) # 데이터프레임 컬럼을 리스트로 반환\n",
    "print('가중치: ', model.coef_)\n",
    "print('y 절편: ', model.intercept_)\n",
    "print('-' * 30)\n",
    "\n",
    "# 예측\n",
    "y_pred = model.predict(x_test)\n",
    "\n",
    "# 평가\n",
    "# 관측치 별 절댓값 오차 합계의 평균\n",
    "print('MAE: ', mean_absolute_error(y_test, y_pred))\n",
    "# 전체 오차 중 회귀식이 잡아낸 오차의 비율\n",
    "print('R2-Score: ', r2_score(y_test, y_pred))"
   ]
  },
  {
   "cell_type": "code",
   "execution_count": 14,
   "id": "6e86f691",
   "metadata": {
    "scrolled": true
   },
   "outputs": [
    {
     "data": {
      "image/png": "[encoded data removed]",
      "text/plain": [
       "<Figure size 432x288 with 1 Axes>"
      ]
     },
     "metadata": {
      "image/png": {
       "height": 248,
       "width": 377
      },
      "needs_background": "light"
     },
     "output_type": "display_data"
    }
   ],
   "source": [
    "# 예측값, 실제값 시각화\n",
    "plt.plot(y_test.values)\n",
    "plt.plot(y_pred)\n",
    "plt.legend(['actual', 'predict'])\n",
    "plt.axhline(y_test.values.mean(), color='r')\n",
    "plt.show()"
   ]
  },
  {
   "cell_type": "code",
   "execution_count": 15,
   "id": "025b5f70",
   "metadata": {},
   "outputs": [
    {
     "data": {
      "image/png": "[encoded data removed]",
      "text/plain": [
       "<Figure size 432x288 with 1 Axes>"
      ]
     },
     "metadata": {
      "image/png": {
       "height": 248,
       "width": 391
      },
      "needs_background": "light"
     },
     "output_type": "display_data"
    }
   ],
   "source": [
    "# 가중치 시각화\n",
    "plt.barh(list(x), model.coef_)\n",
    "plt.show()"
   ]
  },
  {
   "cell_type": "markdown",
   "id": "fd3d6813",
   "metadata": {},
   "source": [
    "> KNN"
   ]
  },
  {
   "cell_type": "code",
   "execution_count": 92,
   "id": "158fdf7c",
   "metadata": {},
   "outputs": [
    {
     "name": "stdout",
     "output_type": "stream",
     "text": [
      "MAE:  10.256521739130434\n",
      "R2-Score:  0.7635360148786453\n"
     ]
    }
   ],
   "source": [
    "# 회귀 알고리즘, 평가 지표 불러오기\n",
    "from sklearn.neighbors import KNeighborsRegressor\n",
    "from sklearn.metrics import mean_absolute_error, r2_score\n",
    "\n",
    "# 모델 선언\n",
    "model = KNeighborsRegressor()\n",
    "\n",
    "# 학습\n",
    "model.fit(x_train, y_train)\n",
    "\n",
    "# 예측 (예측값 = 최근접 이웃들의 값의 평균)\n",
    "y_pred = model.predict(x_test)\n",
    "\n",
    "# 평가\n",
    "print('MAE: ', mean_absolute_error(y_test, y_pred))\n",
    "print('R2-Score: ', r2_score(y_test, y_pred))"
   ]
  },
  {
   "cell_type": "code",
   "execution_count": 93,
   "id": "5f02f542",
   "metadata": {},
   "outputs": [
    {
     "data": {
      "image/png": "[encoded data removed]",
      "text/plain": [
       "<Figure size 432x288 with 1 Axes>"
      ]
     },
     "metadata": {
      "image/png": {
       "height": 248,
       "width": 375
      },
      "needs_background": "light"
     },
     "output_type": "display_data"
    }
   ],
   "source": [
    "# 예측값, 실제값 시각화\n",
    "plt.plot(y_test.values)\n",
    "plt.plot(y_pred)\n",
    "plt.legend(['actual', 'predict'])\n",
    "plt.axhline(y_test.values.mean(), color='r')\n",
    "plt.show()"
   ]
  },
  {
   "cell_type": "markdown",
   "id": "20f248c3",
   "metadata": {},
   "source": [
    "## 2) KNN"
   ]
  },
  {
   "cell_type": "markdown",
   "id": "574b9ea5",
   "metadata": {},
   "source": [
    "* 회귀, 분류 알고리즘\n",
    "* 회귀 : 최근접 이웃들의 값의 평균으로 데이터 값을 예측\n",
    "* 분류 : 최근접 이웃들의 과반 이상의 유형으로 데이터를 분류"
   ]
  },
  {
   "cell_type": "code",
   "execution_count": 64,
   "id": "b21b51ed",
   "metadata": {},
   "outputs": [],
   "source": [
    "# 라이브러리 불러오기\n",
    "import numpy as np\n",
    "import pandas as pd\n",
    "import matplotlib.pyplot as plt\n",
    "\n",
    "%config InlineBackend.figure_format = 'retina'"
   ]
  },
  {
   "cell_type": "code",
   "execution_count": 65,
   "id": "652706b4",
   "metadata": {},
   "outputs": [],
   "source": [
    "# 데이터 읽어오기\n",
    "path = 'https://raw.githubusercontent.com/Jangrae/csv/master/admission_simple.csv'\n",
    "data = pd.read_csv(path)\n",
    "data['ADMIT'] = data['ADMIT'].map({1:'Yes', 0:'No'})"
   ]
  },
  {
   "cell_type": "markdown",
   "id": "7e030f62",
   "metadata": {},
   "source": [
    "### 1. 데이터 이해"
   ]
  },
  {
   "cell_type": "code",
   "execution_count": 66,
   "id": "2be59f2f",
   "metadata": {},
   "outputs": [
    {
     "data": {
      "text/html": [
       "<div>\n",
       "<style scoped>\n",
       "    .dataframe tbody tr th:only-of-type {\n",
       "        vertical-align: middle;\n",
       "    }\n",
       "\n",
       "    .dataframe tbody tr th {\n",
       "        vertical-align: top;\n",
       "    }\n",
       "\n",
       "    .dataframe thead th {\n",
       "        text-align: right;\n",
       "    }\n",
       "</style>\n",
       "<table border=\"1\" class=\"dataframe\">\n",
       "  <thead>\n",
       "    <tr style=\"text-align: right;\">\n",
       "      <th></th>\n",
       "      <th>GRE</th>\n",
       "      <th>TOEFL</th>\n",
       "      <th>RANK</th>\n",
       "      <th>SOP</th>\n",
       "      <th>LOR</th>\n",
       "      <th>GPA</th>\n",
       "      <th>RESEARCH</th>\n",
       "      <th>ADMIT</th>\n",
       "    </tr>\n",
       "  </thead>\n",
       "  <tbody>\n",
       "    <tr>\n",
       "      <th>0</th>\n",
       "      <td>337</td>\n",
       "      <td>118</td>\n",
       "      <td>4</td>\n",
       "      <td>4.5</td>\n",
       "      <td>4.5</td>\n",
       "      <td>9.65</td>\n",
       "      <td>1</td>\n",
       "      <td>Yes</td>\n",
       "    </tr>\n",
       "    <tr>\n",
       "      <th>1</th>\n",
       "      <td>324</td>\n",
       "      <td>107</td>\n",
       "      <td>4</td>\n",
       "      <td>4.0</td>\n",
       "      <td>4.5</td>\n",
       "      <td>8.87</td>\n",
       "      <td>1</td>\n",
       "      <td>Yes</td>\n",
       "    </tr>\n",
       "    <tr>\n",
       "      <th>2</th>\n",
       "      <td>316</td>\n",
       "      <td>104</td>\n",
       "      <td>3</td>\n",
       "      <td>3.0</td>\n",
       "      <td>3.5</td>\n",
       "      <td>8.00</td>\n",
       "      <td>1</td>\n",
       "      <td>No</td>\n",
       "    </tr>\n",
       "    <tr>\n",
       "      <th>3</th>\n",
       "      <td>322</td>\n",
       "      <td>110</td>\n",
       "      <td>3</td>\n",
       "      <td>3.5</td>\n",
       "      <td>2.5</td>\n",
       "      <td>8.67</td>\n",
       "      <td>1</td>\n",
       "      <td>Yes</td>\n",
       "    </tr>\n",
       "    <tr>\n",
       "      <th>4</th>\n",
       "      <td>314</td>\n",
       "      <td>103</td>\n",
       "      <td>2</td>\n",
       "      <td>2.0</td>\n",
       "      <td>3.0</td>\n",
       "      <td>8.21</td>\n",
       "      <td>0</td>\n",
       "      <td>No</td>\n",
       "    </tr>\n",
       "  </tbody>\n",
       "</table>\n",
       "</div>"
      ],
      "text/plain": [
       "   GRE  TOEFL  RANK  SOP  LOR   GPA  RESEARCH ADMIT\n",
       "0  337    118     4  4.5  4.5  9.65         1   Yes\n",
       "1  324    107     4  4.0  4.5  8.87         1   Yes\n",
       "2  316    104     3  3.0  3.5  8.00         1    No\n",
       "3  322    110     3  3.5  2.5  8.67         1   Yes\n",
       "4  314    103     2  2.0  3.0  8.21         0    No"
      ]
     },
     "execution_count": 66,
     "metadata": {},
     "output_type": "execute_result"
    }
   ],
   "source": [
    "# 상위 데이터 확인\n",
    "data.head()"
   ]
  },
  {
   "cell_type": "code",
   "execution_count": 67,
   "id": "aa7d475a",
   "metadata": {},
   "outputs": [
    {
     "name": "stdout",
     "output_type": "stream",
     "text": [
      "<class 'pandas.core.frame.DataFrame'>\n",
      "RangeIndex: 500 entries, 0 to 499\n",
      "Data columns (total 8 columns):\n",
      " #   Column    Non-Null Count  Dtype  \n",
      "---  ------    --------------  -----  \n",
      " 0   GRE       500 non-null    int64  \n",
      " 1   TOEFL     500 non-null    int64  \n",
      " 2   RANK      500 non-null    int64  \n",
      " 3   SOP       500 non-null    float64\n",
      " 4   LOR       500 non-null    float64\n",
      " 5   GPA       500 non-null    float64\n",
      " 6   RESEARCH  500 non-null    int64  \n",
      " 7   ADMIT     500 non-null    object \n",
      "dtypes: float64(3), int64(4), object(1)\n",
      "memory usage: 31.4+ KB\n"
     ]
    }
   ],
   "source": [
    "# 열 정보 확인\n",
    "data.info()"
   ]
  },
  {
   "cell_type": "code",
   "execution_count": 68,
   "id": "d2b14416",
   "metadata": {
    "scrolled": true
   },
   "outputs": [
    {
     "data": {
      "text/html": [
       "<div>\n",
       "<style scoped>\n",
       "    .dataframe tbody tr th:only-of-type {\n",
       "        vertical-align: middle;\n",
       "    }\n",
       "\n",
       "    .dataframe tbody tr th {\n",
       "        vertical-align: top;\n",
       "    }\n",
       "\n",
       "    .dataframe thead th {\n",
       "        text-align: right;\n",
       "    }\n",
       "</style>\n",
       "<table border=\"1\" class=\"dataframe\">\n",
       "  <thead>\n",
       "    <tr style=\"text-align: right;\">\n",
       "      <th></th>\n",
       "      <th>GRE</th>\n",
       "      <th>TOEFL</th>\n",
       "      <th>RANK</th>\n",
       "      <th>SOP</th>\n",
       "      <th>LOR</th>\n",
       "      <th>GPA</th>\n",
       "      <th>RESEARCH</th>\n",
       "    </tr>\n",
       "  </thead>\n",
       "  <tbody>\n",
       "    <tr>\n",
       "      <th>count</th>\n",
       "      <td>500.000000</td>\n",
       "      <td>500.000000</td>\n",
       "      <td>500.000000</td>\n",
       "      <td>500.000000</td>\n",
       "      <td>500.00000</td>\n",
       "      <td>500.000000</td>\n",
       "      <td>500.000000</td>\n",
       "    </tr>\n",
       "    <tr>\n",
       "      <th>mean</th>\n",
       "      <td>316.472000</td>\n",
       "      <td>107.192000</td>\n",
       "      <td>3.114000</td>\n",
       "      <td>3.374000</td>\n",
       "      <td>3.48400</td>\n",
       "      <td>8.576440</td>\n",
       "      <td>0.560000</td>\n",
       "    </tr>\n",
       "    <tr>\n",
       "      <th>std</th>\n",
       "      <td>11.295148</td>\n",
       "      <td>6.081868</td>\n",
       "      <td>1.143512</td>\n",
       "      <td>0.991004</td>\n",
       "      <td>0.92545</td>\n",
       "      <td>0.604813</td>\n",
       "      <td>0.496884</td>\n",
       "    </tr>\n",
       "    <tr>\n",
       "      <th>min</th>\n",
       "      <td>290.000000</td>\n",
       "      <td>92.000000</td>\n",
       "      <td>1.000000</td>\n",
       "      <td>1.000000</td>\n",
       "      <td>1.00000</td>\n",
       "      <td>6.800000</td>\n",
       "      <td>0.000000</td>\n",
       "    </tr>\n",
       "    <tr>\n",
       "      <th>25%</th>\n",
       "      <td>308.000000</td>\n",
       "      <td>103.000000</td>\n",
       "      <td>2.000000</td>\n",
       "      <td>2.500000</td>\n",
       "      <td>3.00000</td>\n",
       "      <td>8.127500</td>\n",
       "      <td>0.000000</td>\n",
       "    </tr>\n",
       "    <tr>\n",
       "      <th>50%</th>\n",
       "      <td>317.000000</td>\n",
       "      <td>107.000000</td>\n",
       "      <td>3.000000</td>\n",
       "      <td>3.500000</td>\n",
       "      <td>3.50000</td>\n",
       "      <td>8.560000</td>\n",
       "      <td>1.000000</td>\n",
       "    </tr>\n",
       "    <tr>\n",
       "      <th>75%</th>\n",
       "      <td>325.000000</td>\n",
       "      <td>112.000000</td>\n",
       "      <td>4.000000</td>\n",
       "      <td>4.000000</td>\n",
       "      <td>4.00000</td>\n",
       "      <td>9.040000</td>\n",
       "      <td>1.000000</td>\n",
       "    </tr>\n",
       "    <tr>\n",
       "      <th>max</th>\n",
       "      <td>340.000000</td>\n",
       "      <td>120.000000</td>\n",
       "      <td>5.000000</td>\n",
       "      <td>5.000000</td>\n",
       "      <td>5.00000</td>\n",
       "      <td>9.920000</td>\n",
       "      <td>1.000000</td>\n",
       "    </tr>\n",
       "  </tbody>\n",
       "</table>\n",
       "</div>"
      ],
      "text/plain": [
       "              GRE       TOEFL        RANK         SOP        LOR         GPA  \\\n",
       "count  500.000000  500.000000  500.000000  500.000000  500.00000  500.000000   \n",
       "mean   316.472000  107.192000    3.114000    3.374000    3.48400    8.576440   \n",
       "std     11.295148    6.081868    1.143512    0.991004    0.92545    0.604813   \n",
       "min    290.000000   92.000000    1.000000    1.000000    1.00000    6.800000   \n",
       "25%    308.000000  103.000000    2.000000    2.500000    3.00000    8.127500   \n",
       "50%    317.000000  107.000000    3.000000    3.500000    3.50000    8.560000   \n",
       "75%    325.000000  112.000000    4.000000    4.000000    4.00000    9.040000   \n",
       "max    340.000000  120.000000    5.000000    5.000000    5.00000    9.920000   \n",
       "\n",
       "         RESEARCH  \n",
       "count  500.000000  \n",
       "mean     0.560000  \n",
       "std      0.496884  \n",
       "min      0.000000  \n",
       "25%      0.000000  \n",
       "50%      1.000000  \n",
       "75%      1.000000  \n",
       "max      1.000000  "
      ]
     },
     "execution_count": 68,
     "metadata": {},
     "output_type": "execute_result"
    }
   ],
   "source": [
    "# 기초통계량 확인\n",
    "data.describe()"
   ]
  },
  {
   "cell_type": "code",
   "execution_count": 69,
   "id": "a78b2b8f",
   "metadata": {
    "scrolled": true
   },
   "outputs": [
    {
     "data": {
      "text/html": [
       "<div>\n",
       "<style scoped>\n",
       "    .dataframe tbody tr th:only-of-type {\n",
       "        vertical-align: middle;\n",
       "    }\n",
       "\n",
       "    .dataframe tbody tr th {\n",
       "        vertical-align: top;\n",
       "    }\n",
       "\n",
       "    .dataframe thead th {\n",
       "        text-align: right;\n",
       "    }\n",
       "</style>\n",
       "<table border=\"1\" class=\"dataframe\">\n",
       "  <thead>\n",
       "    <tr style=\"text-align: right;\">\n",
       "      <th></th>\n",
       "      <th>GRE</th>\n",
       "      <th>TOEFL</th>\n",
       "      <th>RANK</th>\n",
       "      <th>SOP</th>\n",
       "      <th>LOR</th>\n",
       "      <th>GPA</th>\n",
       "      <th>RESEARCH</th>\n",
       "    </tr>\n",
       "  </thead>\n",
       "  <tbody>\n",
       "    <tr>\n",
       "      <th>GRE</th>\n",
       "      <td>1.000000</td>\n",
       "      <td>0.827200</td>\n",
       "      <td>0.635376</td>\n",
       "      <td>0.613498</td>\n",
       "      <td>0.524679</td>\n",
       "      <td>0.825878</td>\n",
       "      <td>0.563398</td>\n",
       "    </tr>\n",
       "    <tr>\n",
       "      <th>TOEFL</th>\n",
       "      <td>0.827200</td>\n",
       "      <td>1.000000</td>\n",
       "      <td>0.649799</td>\n",
       "      <td>0.644410</td>\n",
       "      <td>0.541563</td>\n",
       "      <td>0.810574</td>\n",
       "      <td>0.467012</td>\n",
       "    </tr>\n",
       "    <tr>\n",
       "      <th>RANK</th>\n",
       "      <td>0.635376</td>\n",
       "      <td>0.649799</td>\n",
       "      <td>1.000000</td>\n",
       "      <td>0.728024</td>\n",
       "      <td>0.608651</td>\n",
       "      <td>0.705254</td>\n",
       "      <td>0.427047</td>\n",
       "    </tr>\n",
       "    <tr>\n",
       "      <th>SOP</th>\n",
       "      <td>0.613498</td>\n",
       "      <td>0.644410</td>\n",
       "      <td>0.728024</td>\n",
       "      <td>1.000000</td>\n",
       "      <td>0.663707</td>\n",
       "      <td>0.712154</td>\n",
       "      <td>0.408116</td>\n",
       "    </tr>\n",
       "    <tr>\n",
       "      <th>LOR</th>\n",
       "      <td>0.524679</td>\n",
       "      <td>0.541563</td>\n",
       "      <td>0.608651</td>\n",
       "      <td>0.663707</td>\n",
       "      <td>1.000000</td>\n",
       "      <td>0.637469</td>\n",
       "      <td>0.372526</td>\n",
       "    </tr>\n",
       "    <tr>\n",
       "      <th>GPA</th>\n",
       "      <td>0.825878</td>\n",
       "      <td>0.810574</td>\n",
       "      <td>0.705254</td>\n",
       "      <td>0.712154</td>\n",
       "      <td>0.637469</td>\n",
       "      <td>1.000000</td>\n",
       "      <td>0.501311</td>\n",
       "    </tr>\n",
       "    <tr>\n",
       "      <th>RESEARCH</th>\n",
       "      <td>0.563398</td>\n",
       "      <td>0.467012</td>\n",
       "      <td>0.427047</td>\n",
       "      <td>0.408116</td>\n",
       "      <td>0.372526</td>\n",
       "      <td>0.501311</td>\n",
       "      <td>1.000000</td>\n",
       "    </tr>\n",
       "  </tbody>\n",
       "</table>\n",
       "</div>"
      ],
      "text/plain": [
       "               GRE     TOEFL      RANK       SOP       LOR       GPA  RESEARCH\n",
       "GRE       1.000000  0.827200  0.635376  0.613498  0.524679  0.825878  0.563398\n",
       "TOEFL     0.827200  1.000000  0.649799  0.644410  0.541563  0.810574  0.467012\n",
       "RANK      0.635376  0.649799  1.000000  0.728024  0.608651  0.705254  0.427047\n",
       "SOP       0.613498  0.644410  0.728024  1.000000  0.663707  0.712154  0.408116\n",
       "LOR       0.524679  0.541563  0.608651  0.663707  1.000000  0.637469  0.372526\n",
       "GPA       0.825878  0.810574  0.705254  0.712154  0.637469  1.000000  0.501311\n",
       "RESEARCH  0.563398  0.467012  0.427047  0.408116  0.372526  0.501311  1.000000"
      ]
     },
     "execution_count": 69,
     "metadata": {},
     "output_type": "execute_result"
    }
   ],
   "source": [
    "# 상관관계 확인\n",
    "data.corr()"
   ]
  },
  {
   "cell_type": "markdown",
   "id": "52611328",
   "metadata": {},
   "source": [
    "### 2. 데이터 전처리"
   ]
  },
  {
   "cell_type": "code",
   "execution_count": 70,
   "id": "c73ec57a",
   "metadata": {},
   "outputs": [
    {
     "data": {
      "text/plain": [
       "GRE         0\n",
       "TOEFL       0\n",
       "RANK        0\n",
       "SOP         0\n",
       "LOR         0\n",
       "GPA         0\n",
       "RESEARCH    0\n",
       "ADMIT       0\n",
       "dtype: int64"
      ]
     },
     "execution_count": 70,
     "metadata": {},
     "output_type": "execute_result"
    }
   ],
   "source": [
    "# 결측치 확인\n",
    "data.isna().sum()"
   ]
  },
  {
   "cell_type": "code",
   "execution_count": 71,
   "id": "9bef4880",
   "metadata": {},
   "outputs": [],
   "source": [
    "# x, y 분리\n",
    "target = 'ADMIT'\n",
    "x = data.drop(target, axis=1)\n",
    "y = data[target]"
   ]
  },
  {
   "cell_type": "code",
   "execution_count": 72,
   "id": "f2483858",
   "metadata": {},
   "outputs": [],
   "source": [
    "# 학습용, 평가용 데이터 7:3 분리\n",
    "from sklearn.model_selection import train_test_split\n",
    "x_train, x_test, y_train, y_test = train_test_split(x, y, test_size=0.3, random_state=2022)"
   ]
  },
  {
   "cell_type": "markdown",
   "id": "b797bc85",
   "metadata": {},
   "source": [
    "### 3. 모델링"
   ]
  },
  {
   "cell_type": "code",
   "execution_count": 73,
   "id": "23685cc3",
   "metadata": {},
   "outputs": [
    {
     "name": "stdout",
     "output_type": "stream",
     "text": [
      "[[74  9]\n",
      " [ 8 59]]\n",
      "              precision    recall  f1-score   support\n",
      "\n",
      "          No       0.90      0.89      0.90        83\n",
      "         Yes       0.87      0.88      0.87        67\n",
      "\n",
      "    accuracy                           0.89       150\n",
      "   macro avg       0.89      0.89      0.89       150\n",
      "weighted avg       0.89      0.89      0.89       150\n",
      "\n"
     ]
    }
   ],
   "source": [
    "# 분류 알고리즘, 평가 지표 불러오기\n",
    "from sklearn.neighbors import KNeighborsClassifier\n",
    "from sklearn.metrics import confusion_matrix, classification_report\n",
    "\n",
    "# 모델 선언\n",
    "model = KNeighborsClassifier(n_neighbors=5)\n",
    "\n",
    "# 학습\n",
    "model.fit(x_train, y_train)\n",
    "\n",
    "# 예측\n",
    "y_pred = model.predict(x_test)\n",
    "\n",
    "# 평가\n",
    "print(confusion_matrix(y_test, y_pred))\n",
    "print(classification_report(y_test, y_pred))"
   ]
  },
  {
   "cell_type": "code",
   "execution_count": 75,
   "id": "aeb15677",
   "metadata": {},
   "outputs": [
    {
     "data": {
      "image/png": "[encoded data removed]",
      "text/plain": [
       "<Figure size 432x288 with 2 Axes>"
      ]
     },
     "metadata": {
      "image/png": {
       "height": 248,
       "width": 346
      },
      "needs_background": "light"
     },
     "output_type": "display_data"
    }
   ],
   "source": [
    "# 혼동행렬 시각화\n",
    "sns.heatmap(confusion_matrix(y_test, y_pred), annot=True, cmap='Blues')\n",
    "plt.show()"
   ]
  }
 ],
 "metadata": {
  "kernelspec": {
   "display_name": "Python 3",
   "language": "python",
   "name": "python3"
  },
  "language_info": {
   "codemirror_mode": {
    "name": "ipython",
    "version": 3
   },
   "file_extension": ".py",
   "mimetype": "text/x-python",
   "name": "python",
   "nbconvert_exporter": "python",
   "pygments_lexer": "ipython3",
   "version": "3.8.8"
  }
 },
 "nbformat": 4,
 "nbformat_minor": 5
}
