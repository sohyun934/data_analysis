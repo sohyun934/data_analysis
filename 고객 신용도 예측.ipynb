{
 "cells": [
  {
   "cell_type": "markdown",
   "metadata": {
    "id": "y1J78TFSRrSA"
   },
   "source": [
    "<center><img src='https://raw.githubusercontent.com/Jangrae/img/master/ml_python.png' width=600/></center>"
   ]
  },
  {
   "cell_type": "markdown",
   "metadata": {
    "id": "NlQaHFfZUHxn"
   },
   "source": [
    "<center><img src='https://raw.githubusercontent.com/Jangrae/img/master/levelup.png' width=240/></center>"
   ]
  },
  {
   "cell_type": "markdown",
   "metadata": {
    "id": "y5V-LFxvFUwe"
   },
   "source": [
    "# 과제: 고객 신용도 예측\n"
   ]
  },
  {
   "cell_type": "markdown",
   "metadata": {
    "id": "4yKjzn4-kohB"
   },
   "source": [
    "<img src = \"https://github.com/Jangrae/img/blob/master/credit-card.jpg?raw=true\" width=900 align=\"left\"/>"
   ]
  },
  {
   "cell_type": "markdown",
   "metadata": {
    "id": "Z2WOTwxR_aXD"
   },
   "source": [
    "# 실습 안내"
   ]
  },
  {
   "cell_type": "markdown",
   "metadata": {
    "id": "dv-CpoqR_aXE"
   },
   "source": [
    "**1) 실습 방법**\n",
    "\n",
    "- 데이터 전처리와 탐색 보다는 모델 코딩에 중점을 둡니다.\n",
    "- 기존 소스에서 복사해 붙여넣기 하지 않고 다시 코딩합니다.\n",
    "- 실습 후 시간이 남으면 데이터 탐색과 성능 튜닝을 진행합니다. \n",
    "- 모든 코드 셀에는 주석을 충분히 답니다.\n",
    "- 마크다운 셀을 사용해 작업 한 내용을 충분히 설명합니다.\n",
    "- 입력을 요구한 (의견) 부분을 충분히 채웁니다.\n",
    "\n",
    "**2) 실습 내용**\n",
    "\n",
    "- 대상 데이터를 읽어와 탐색하며 이해합니다.\n",
    "- 결측치를 확인하고 처리합니다.\n",
    "- 다양한 방법으로 데이터를 탐색하고 결과를 정리합니다.\n",
    "- 범주형 변수를 구분하고 가변수화를 진행합니다.\n",
    "- 연속형 변수를 구분하고 정규화를 진행합니다.\n",
    "- 데이터를 학습용 데이터와 평가용 데이터로 분리합니다.\n",
    "- 다양한 머신러닝 알고리즘을 사용해 모델링합니다.\n",
    "- 성능 평가 결과를 이해하고 설명합니다.\n",
    "- 더 나은 성능을 보이도록 특정 모델을 튜닝합니다.\n",
    "\n",
    "**3) 데이터 정보**\n",
    "\n",
    "<img src = \"https://github.com/Jangrae/img/blob/master/credit.png?raw=true\" width=550 align=\"left\"/>"
   ]
  },
  {
   "cell_type": "markdown",
   "metadata": {
    "id": "WW5MoKVRHuE8"
   },
   "source": [
    "# 1.환경 준비\n",
    "\n",
    "- 기본 라이브러리와 대상 데이터를 가져와 이후 과정을 준비합니다."
   ]
  },
  {
   "cell_type": "code",
   "execution_count": 1,
   "metadata": {
    "executionInfo": {
     "elapsed": 379,
     "status": "ok",
     "timestamp": 1643288436470,
     "user": {
      "displayName": "Jangrae Lee",
      "photoUrl": "https://lh3.googleusercontent.com/a-/AOh14Gh1Pd8OuWJU2cv7uTt-fURrgvty7atx_Wtarmx0-A=s64",
      "userId": "08475661575434032088"
     },
     "user_tz": -540
    },
    "id": "GVvCef6A8uv6",
    "scrolled": true
   },
   "outputs": [],
   "source": [
    "# 라이브러리 불러오기\n",
    "import numpy as np\n",
    "import pandas as pd\n",
    "import matplotlib.pyplot as plt\n",
    "import seaborn as sns\n",
    "import warnings\n",
    "\n",
    "warnings.filterwarnings(action='ignore')\n",
    "%config InlineBackend.figure_format='retina'"
   ]
  },
  {
   "cell_type": "code",
   "execution_count": 2,
   "metadata": {
    "executionInfo": {
     "elapsed": 498,
     "status": "ok",
     "timestamp": 1643288436965,
     "user": {
      "displayName": "Jangrae Lee",
      "photoUrl": "https://lh3.googleusercontent.com/a-/AOh14Gh1Pd8OuWJU2cv7uTt-fURrgvty7atx_Wtarmx0-A=s64",
      "userId": "08475661575434032088"
     },
     "user_tz": -540
    },
    "id": "3GgFpOB4zQ7h"
   },
   "outputs": [],
   "source": [
    "# 데이터 읽어오기\n",
    "# path = 'https://raw.githubusercontent.com/Jangrae/csv/master/credit_NA.csv'\n",
    "path = 'https://bit.ly/CreditFile'\n",
    "data = pd.read_csv(path)"
   ]
  },
  {
   "cell_type": "markdown",
   "metadata": {
    "id": "ZJOddHq2zfcU"
   },
   "source": [
    "# 2.데이터 이해\n",
    "\n",
    "- 다양한 탐색 및 분석 방법을 사용해 대상 데이터를 충분히 이해합니다."
   ]
  },
  {
   "cell_type": "markdown",
   "metadata": {
    "id": "bmSYxyMVodRo"
   },
   "source": [
    "## 2.1.기본 정보 확인\n",
    "\n",
    "- 데이터에 대한 기본 정보를 우선 확인합니다."
   ]
  },
  {
   "cell_type": "markdown",
   "metadata": {
    "id": "EqBBcX2zoEWi"
   },
   "source": [
    "**1) 상/하위 데이터 확인**\n",
    "\n",
    "- 데이터 앞/뒤를 살펴 데이터를 간단히 확인합니다."
   ]
  },
  {
   "cell_type": "code",
   "execution_count": 3,
   "metadata": {
    "colab": {
     "base_uri": "https://localhost:8080/",
     "height": 270
    },
    "executionInfo": {
     "elapsed": 26,
     "status": "ok",
     "timestamp": 1643288436966,
     "user": {
      "displayName": "Jangrae Lee",
      "photoUrl": "https://lh3.googleusercontent.com/a-/AOh14Gh1Pd8OuWJU2cv7uTt-fURrgvty7atx_Wtarmx0-A=s64",
      "userId": "08475661575434032088"
     },
     "user_tz": -540
    },
    "id": "rX1uN9oLjmLd",
    "outputId": "b535873f-5818-4481-f325-b8831794a7b9"
   },
   "outputs": [
    {
     "data": {
      "text/html": [
       "<div>\n",
       "<style scoped>\n",
       "    .dataframe tbody tr th:only-of-type {\n",
       "        vertical-align: middle;\n",
       "    }\n",
       "\n",
       "    .dataframe tbody tr th {\n",
       "        vertical-align: top;\n",
       "    }\n",
       "\n",
       "    .dataframe thead th {\n",
       "        text-align: right;\n",
       "    }\n",
       "</style>\n",
       "<table border=\"1\" class=\"dataframe\">\n",
       "  <thead>\n",
       "    <tr style=\"text-align: right;\">\n",
       "      <th></th>\n",
       "      <th>Creditability</th>\n",
       "      <th>AccountBalance</th>\n",
       "      <th>CreditDuration</th>\n",
       "      <th>Payment</th>\n",
       "      <th>Purpose</th>\n",
       "      <th>CreditAmount</th>\n",
       "      <th>Employment</th>\n",
       "      <th>SexMarital</th>\n",
       "      <th>CurrentAddress</th>\n",
       "      <th>MostValuable</th>\n",
       "      <th>Age</th>\n",
       "      <th>ApartmentType</th>\n",
       "      <th>NoCredits</th>\n",
       "      <th>Occupation</th>\n",
       "      <th>Telephone</th>\n",
       "      <th>ForeignWorker</th>\n",
       "    </tr>\n",
       "  </thead>\n",
       "  <tbody>\n",
       "    <tr>\n",
       "      <th>0</th>\n",
       "      <td>1</td>\n",
       "      <td>3</td>\n",
       "      <td>24</td>\n",
       "      <td>2</td>\n",
       "      <td>0</td>\n",
       "      <td>1249</td>\n",
       "      <td>2</td>\n",
       "      <td>4</td>\n",
       "      <td>2</td>\n",
       "      <td>1</td>\n",
       "      <td>28.0</td>\n",
       "      <td>2</td>\n",
       "      <td>1</td>\n",
       "      <td>3</td>\n",
       "      <td>1</td>\n",
       "      <td>1</td>\n",
       "    </tr>\n",
       "    <tr>\n",
       "      <th>1</th>\n",
       "      <td>1</td>\n",
       "      <td>2</td>\n",
       "      <td>9</td>\n",
       "      <td>2</td>\n",
       "      <td>0</td>\n",
       "      <td>276</td>\n",
       "      <td>3</td>\n",
       "      <td>4</td>\n",
       "      <td>4</td>\n",
       "      <td>1</td>\n",
       "      <td>22.0</td>\n",
       "      <td>1</td>\n",
       "      <td>1</td>\n",
       "      <td>2</td>\n",
       "      <td>1</td>\n",
       "      <td>1</td>\n",
       "    </tr>\n",
       "    <tr>\n",
       "      <th>2</th>\n",
       "      <td>1</td>\n",
       "      <td>1</td>\n",
       "      <td>18</td>\n",
       "      <td>4</td>\n",
       "      <td>2</td>\n",
       "      <td>1049</td>\n",
       "      <td>2</td>\n",
       "      <td>2</td>\n",
       "      <td>4</td>\n",
       "      <td>2</td>\n",
       "      <td>21.0</td>\n",
       "      <td>1</td>\n",
       "      <td>1</td>\n",
       "      <td>3</td>\n",
       "      <td>1</td>\n",
       "      <td>1</td>\n",
       "    </tr>\n",
       "    <tr>\n",
       "      <th>3</th>\n",
       "      <td>1</td>\n",
       "      <td>1</td>\n",
       "      <td>24</td>\n",
       "      <td>4</td>\n",
       "      <td>1</td>\n",
       "      <td>6419</td>\n",
       "      <td>5</td>\n",
       "      <td>2</td>\n",
       "      <td>4</td>\n",
       "      <td>4</td>\n",
       "      <td>NaN</td>\n",
       "      <td>3</td>\n",
       "      <td>2</td>\n",
       "      <td>4</td>\n",
       "      <td>2</td>\n",
       "      <td>1</td>\n",
       "    </tr>\n",
       "    <tr>\n",
       "      <th>4</th>\n",
       "      <td>1</td>\n",
       "      <td>3</td>\n",
       "      <td>12</td>\n",
       "      <td>2</td>\n",
       "      <td>2</td>\n",
       "      <td>1424</td>\n",
       "      <td>5</td>\n",
       "      <td>2</td>\n",
       "      <td>4</td>\n",
       "      <td>1</td>\n",
       "      <td>55.0</td>\n",
       "      <td>2</td>\n",
       "      <td>1</td>\n",
       "      <td>4</td>\n",
       "      <td>2</td>\n",
       "      <td>1</td>\n",
       "    </tr>\n",
       "  </tbody>\n",
       "</table>\n",
       "</div>"
      ],
      "text/plain": [
       "   Creditability  AccountBalance  CreditDuration  Payment  Purpose  \\\n",
       "0              1               3              24        2        0   \n",
       "1              1               2               9        2        0   \n",
       "2              1               1              18        4        2   \n",
       "3              1               1              24        4        1   \n",
       "4              1               3              12        2        2   \n",
       "\n",
       "   CreditAmount  Employment  SexMarital  CurrentAddress  MostValuable   Age  \\\n",
       "0          1249           2           4               2             1  28.0   \n",
       "1           276           3           4               4             1  22.0   \n",
       "2          1049           2           2               4             2  21.0   \n",
       "3          6419           5           2               4             4   NaN   \n",
       "4          1424           5           2               4             1  55.0   \n",
       "\n",
       "   ApartmentType  NoCredits  Occupation  Telephone  ForeignWorker  \n",
       "0              2          1           3          1              1  \n",
       "1              1          1           2          1              1  \n",
       "2              1          1           3          1              1  \n",
       "3              3          2           4          2              1  \n",
       "4              2          1           4          2              1  "
      ]
     },
     "execution_count": 3,
     "metadata": {},
     "output_type": "execute_result"
    }
   ],
   "source": [
    "# 상위 데이터 확인\n",
    "data.head()"
   ]
  },
  {
   "cell_type": "code",
   "execution_count": 4,
   "metadata": {
    "colab": {
     "base_uri": "https://localhost:8080/",
     "height": 270
    },
    "executionInfo": {
     "elapsed": 24,
     "status": "ok",
     "timestamp": 1643288436967,
     "user": {
      "displayName": "Jangrae Lee",
      "photoUrl": "https://lh3.googleusercontent.com/a-/AOh14Gh1Pd8OuWJU2cv7uTt-fURrgvty7atx_Wtarmx0-A=s64",
      "userId": "08475661575434032088"
     },
     "user_tz": -540
    },
    "id": "Y7oKoKEcjmLe",
    "outputId": "d5d45f09-7b5a-493a-956d-02ad6063520c"
   },
   "outputs": [
    {
     "data": {
      "text/html": [
       "<div>\n",
       "<style scoped>\n",
       "    .dataframe tbody tr th:only-of-type {\n",
       "        vertical-align: middle;\n",
       "    }\n",
       "\n",
       "    .dataframe tbody tr th {\n",
       "        vertical-align: top;\n",
       "    }\n",
       "\n",
       "    .dataframe thead th {\n",
       "        text-align: right;\n",
       "    }\n",
       "</style>\n",
       "<table border=\"1\" class=\"dataframe\">\n",
       "  <thead>\n",
       "    <tr style=\"text-align: right;\">\n",
       "      <th></th>\n",
       "      <th>Creditability</th>\n",
       "      <th>AccountBalance</th>\n",
       "      <th>CreditDuration</th>\n",
       "      <th>Payment</th>\n",
       "      <th>Purpose</th>\n",
       "      <th>CreditAmount</th>\n",
       "      <th>Employment</th>\n",
       "      <th>SexMarital</th>\n",
       "      <th>CurrentAddress</th>\n",
       "      <th>MostValuable</th>\n",
       "      <th>Age</th>\n",
       "      <th>ApartmentType</th>\n",
       "      <th>NoCredits</th>\n",
       "      <th>Occupation</th>\n",
       "      <th>Telephone</th>\n",
       "      <th>ForeignWorker</th>\n",
       "    </tr>\n",
       "  </thead>\n",
       "  <tbody>\n",
       "    <tr>\n",
       "      <th>995</th>\n",
       "      <td>1</td>\n",
       "      <td>1</td>\n",
       "      <td>12</td>\n",
       "      <td>2</td>\n",
       "      <td>3</td>\n",
       "      <td>1680</td>\n",
       "      <td>5</td>\n",
       "      <td>4</td>\n",
       "      <td>1</td>\n",
       "      <td>1</td>\n",
       "      <td>35.0</td>\n",
       "      <td>2</td>\n",
       "      <td>1</td>\n",
       "      <td>3</td>\n",
       "      <td>1</td>\n",
       "      <td>1</td>\n",
       "    </tr>\n",
       "    <tr>\n",
       "      <th>996</th>\n",
       "      <td>1</td>\n",
       "      <td>1</td>\n",
       "      <td>42</td>\n",
       "      <td>2</td>\n",
       "      <td>2</td>\n",
       "      <td>7882</td>\n",
       "      <td>4</td>\n",
       "      <td>3</td>\n",
       "      <td>4</td>\n",
       "      <td>2</td>\n",
       "      <td>45.0</td>\n",
       "      <td>3</td>\n",
       "      <td>1</td>\n",
       "      <td>3</td>\n",
       "      <td>1</td>\n",
       "      <td>1</td>\n",
       "    </tr>\n",
       "    <tr>\n",
       "      <th>997</th>\n",
       "      <td>0</td>\n",
       "      <td>2</td>\n",
       "      <td>54</td>\n",
       "      <td>0</td>\n",
       "      <td>9</td>\n",
       "      <td>15945</td>\n",
       "      <td>2</td>\n",
       "      <td>3</td>\n",
       "      <td>4</td>\n",
       "      <td>4</td>\n",
       "      <td>58.0</td>\n",
       "      <td>1</td>\n",
       "      <td>1</td>\n",
       "      <td>3</td>\n",
       "      <td>2</td>\n",
       "      <td>1</td>\n",
       "    </tr>\n",
       "    <tr>\n",
       "      <th>998</th>\n",
       "      <td>1</td>\n",
       "      <td>2</td>\n",
       "      <td>15</td>\n",
       "      <td>4</td>\n",
       "      <td>3</td>\n",
       "      <td>1537</td>\n",
       "      <td>5</td>\n",
       "      <td>3</td>\n",
       "      <td>4</td>\n",
       "      <td>1</td>\n",
       "      <td>50.0</td>\n",
       "      <td>2</td>\n",
       "      <td>2</td>\n",
       "      <td>3</td>\n",
       "      <td>2</td>\n",
       "      <td>1</td>\n",
       "    </tr>\n",
       "    <tr>\n",
       "      <th>999</th>\n",
       "      <td>0</td>\n",
       "      <td>3</td>\n",
       "      <td>12</td>\n",
       "      <td>2</td>\n",
       "      <td>0</td>\n",
       "      <td>1386</td>\n",
       "      <td>3</td>\n",
       "      <td>2</td>\n",
       "      <td>2</td>\n",
       "      <td>2</td>\n",
       "      <td>26.0</td>\n",
       "      <td>2</td>\n",
       "      <td>1</td>\n",
       "      <td>3</td>\n",
       "      <td>1</td>\n",
       "      <td>1</td>\n",
       "    </tr>\n",
       "  </tbody>\n",
       "</table>\n",
       "</div>"
      ],
      "text/plain": [
       "     Creditability  AccountBalance  CreditDuration  Payment  Purpose  \\\n",
       "995              1               1              12        2        3   \n",
       "996              1               1              42        2        2   \n",
       "997              0               2              54        0        9   \n",
       "998              1               2              15        4        3   \n",
       "999              0               3              12        2        0   \n",
       "\n",
       "     CreditAmount  Employment  SexMarital  CurrentAddress  MostValuable   Age  \\\n",
       "995          1680           5           4               1             1  35.0   \n",
       "996          7882           4           3               4             2  45.0   \n",
       "997         15945           2           3               4             4  58.0   \n",
       "998          1537           5           3               4             1  50.0   \n",
       "999          1386           3           2               2             2  26.0   \n",
       "\n",
       "     ApartmentType  NoCredits  Occupation  Telephone  ForeignWorker  \n",
       "995              2          1           3          1              1  \n",
       "996              3          1           3          1              1  \n",
       "997              1          1           3          2              1  \n",
       "998              2          2           3          2              1  \n",
       "999              2          1           3          1              1  "
      ]
     },
     "execution_count": 4,
     "metadata": {},
     "output_type": "execute_result"
    }
   ],
   "source": [
    "# 하위 데이터 확인\n",
    "data.tail()"
   ]
  },
  {
   "cell_type": "markdown",
   "metadata": {
    "id": "PW_COUPqwoz2"
   },
   "source": [
    "**2) 변수 정보 확인**\n",
    "\n",
    "- 변수 이름, 값 개수, 데이터 형식등을 확인합니다."
   ]
  },
  {
   "cell_type": "code",
   "execution_count": 5,
   "metadata": {
    "colab": {
     "base_uri": "https://localhost:8080/"
    },
    "executionInfo": {
     "elapsed": 22,
     "status": "ok",
     "timestamp": 1643288436967,
     "user": {
      "displayName": "Jangrae Lee",
      "photoUrl": "https://lh3.googleusercontent.com/a-/AOh14Gh1Pd8OuWJU2cv7uTt-fURrgvty7atx_Wtarmx0-A=s64",
      "userId": "08475661575434032088"
     },
     "user_tz": -540
    },
    "id": "GCXCvzHLjmLf",
    "outputId": "bc72b194-e1df-432d-a748-9a78731ae918"
   },
   "outputs": [
    {
     "name": "stdout",
     "output_type": "stream",
     "text": [
      "<class 'pandas.core.frame.DataFrame'>\n",
      "RangeIndex: 1000 entries, 0 to 999\n",
      "Data columns (total 16 columns):\n",
      " #   Column          Non-Null Count  Dtype  \n",
      "---  ------          --------------  -----  \n",
      " 0   Creditability   1000 non-null   int64  \n",
      " 1   AccountBalance  1000 non-null   int64  \n",
      " 2   CreditDuration  1000 non-null   int64  \n",
      " 3   Payment         1000 non-null   int64  \n",
      " 4   Purpose         1000 non-null   int64  \n",
      " 5   CreditAmount    1000 non-null   int64  \n",
      " 6   Employment      1000 non-null   int64  \n",
      " 7   SexMarital      1000 non-null   int64  \n",
      " 8   CurrentAddress  1000 non-null   int64  \n",
      " 9   MostValuable    1000 non-null   int64  \n",
      " 10  Age             983 non-null    float64\n",
      " 11  ApartmentType   1000 non-null   int64  \n",
      " 12  NoCredits       1000 non-null   int64  \n",
      " 13  Occupation      1000 non-null   int64  \n",
      " 14  Telephone       1000 non-null   int64  \n",
      " 15  ForeignWorker   1000 non-null   int64  \n",
      "dtypes: float64(1), int64(15)\n",
      "memory usage: 125.1 KB\n"
     ]
    }
   ],
   "source": [
    "# 변수 정보 확인\n",
    "data.info()"
   ]
  },
  {
   "cell_type": "markdown",
   "metadata": {
    "id": "gVKnqRbgw1y1"
   },
   "source": [
    "**3) 기초통계정보 확인**\n",
    "\n",
    "- 기초통계정보를 통해 숫자 데이터를 갖는 변수들 값 분포를 확인합니다."
   ]
  },
  {
   "cell_type": "code",
   "execution_count": 6,
   "metadata": {
    "colab": {
     "base_uri": "https://localhost:8080/",
     "height": 364
    },
    "executionInfo": {
     "elapsed": 19,
     "status": "ok",
     "timestamp": 1643288436968,
     "user": {
      "displayName": "Jangrae Lee",
      "photoUrl": "https://lh3.googleusercontent.com/a-/AOh14Gh1Pd8OuWJU2cv7uTt-fURrgvty7atx_Wtarmx0-A=s64",
      "userId": "08475661575434032088"
     },
     "user_tz": -540
    },
    "id": "CUlxANInjmLg",
    "outputId": "fd966a67-523f-4b51-848e-63c0c429f4ea"
   },
   "outputs": [
    {
     "data": {
      "text/html": [
       "<div>\n",
       "<style scoped>\n",
       "    .dataframe tbody tr th:only-of-type {\n",
       "        vertical-align: middle;\n",
       "    }\n",
       "\n",
       "    .dataframe tbody tr th {\n",
       "        vertical-align: top;\n",
       "    }\n",
       "\n",
       "    .dataframe thead th {\n",
       "        text-align: right;\n",
       "    }\n",
       "</style>\n",
       "<table border=\"1\" class=\"dataframe\">\n",
       "  <thead>\n",
       "    <tr style=\"text-align: right;\">\n",
       "      <th></th>\n",
       "      <th>Creditability</th>\n",
       "      <th>AccountBalance</th>\n",
       "      <th>CreditDuration</th>\n",
       "      <th>Payment</th>\n",
       "      <th>Purpose</th>\n",
       "      <th>CreditAmount</th>\n",
       "      <th>Employment</th>\n",
       "      <th>SexMarital</th>\n",
       "      <th>CurrentAddress</th>\n",
       "      <th>MostValuable</th>\n",
       "      <th>Age</th>\n",
       "      <th>ApartmentType</th>\n",
       "      <th>NoCredits</th>\n",
       "      <th>Occupation</th>\n",
       "      <th>Telephone</th>\n",
       "      <th>ForeignWorker</th>\n",
       "    </tr>\n",
       "  </thead>\n",
       "  <tbody>\n",
       "    <tr>\n",
       "      <th>count</th>\n",
       "      <td>1000.000000</td>\n",
       "      <td>1000.000000</td>\n",
       "      <td>1000.000000</td>\n",
       "      <td>1000.00000</td>\n",
       "      <td>1000.000000</td>\n",
       "      <td>1000.00000</td>\n",
       "      <td>1000.000000</td>\n",
       "      <td>1000.00000</td>\n",
       "      <td>1000.000000</td>\n",
       "      <td>1000.000000</td>\n",
       "      <td>983.000000</td>\n",
       "      <td>1000.000000</td>\n",
       "      <td>1000.000000</td>\n",
       "      <td>1000.000000</td>\n",
       "      <td>1000.000000</td>\n",
       "      <td>1000.000000</td>\n",
       "    </tr>\n",
       "    <tr>\n",
       "      <th>mean</th>\n",
       "      <td>0.700000</td>\n",
       "      <td>2.183000</td>\n",
       "      <td>20.903000</td>\n",
       "      <td>2.54500</td>\n",
       "      <td>2.828000</td>\n",
       "      <td>3271.24800</td>\n",
       "      <td>3.384000</td>\n",
       "      <td>2.68200</td>\n",
       "      <td>2.845000</td>\n",
       "      <td>2.358000</td>\n",
       "      <td>35.495422</td>\n",
       "      <td>1.928000</td>\n",
       "      <td>1.407000</td>\n",
       "      <td>2.904000</td>\n",
       "      <td>1.404000</td>\n",
       "      <td>1.037000</td>\n",
       "    </tr>\n",
       "    <tr>\n",
       "      <th>std</th>\n",
       "      <td>0.458487</td>\n",
       "      <td>0.835589</td>\n",
       "      <td>12.058814</td>\n",
       "      <td>1.08312</td>\n",
       "      <td>2.744439</td>\n",
       "      <td>2822.75176</td>\n",
       "      <td>1.208306</td>\n",
       "      <td>0.70808</td>\n",
       "      <td>1.103718</td>\n",
       "      <td>1.050209</td>\n",
       "      <td>11.302980</td>\n",
       "      <td>0.530186</td>\n",
       "      <td>0.577654</td>\n",
       "      <td>0.653614</td>\n",
       "      <td>0.490943</td>\n",
       "      <td>0.188856</td>\n",
       "    </tr>\n",
       "    <tr>\n",
       "      <th>min</th>\n",
       "      <td>0.000000</td>\n",
       "      <td>1.000000</td>\n",
       "      <td>4.000000</td>\n",
       "      <td>0.00000</td>\n",
       "      <td>0.000000</td>\n",
       "      <td>250.00000</td>\n",
       "      <td>1.000000</td>\n",
       "      <td>1.00000</td>\n",
       "      <td>1.000000</td>\n",
       "      <td>1.000000</td>\n",
       "      <td>19.000000</td>\n",
       "      <td>1.000000</td>\n",
       "      <td>1.000000</td>\n",
       "      <td>1.000000</td>\n",
       "      <td>1.000000</td>\n",
       "      <td>1.000000</td>\n",
       "    </tr>\n",
       "    <tr>\n",
       "      <th>25%</th>\n",
       "      <td>0.000000</td>\n",
       "      <td>1.000000</td>\n",
       "      <td>12.000000</td>\n",
       "      <td>2.00000</td>\n",
       "      <td>1.000000</td>\n",
       "      <td>1365.50000</td>\n",
       "      <td>3.000000</td>\n",
       "      <td>2.00000</td>\n",
       "      <td>2.000000</td>\n",
       "      <td>1.000000</td>\n",
       "      <td>27.000000</td>\n",
       "      <td>2.000000</td>\n",
       "      <td>1.000000</td>\n",
       "      <td>3.000000</td>\n",
       "      <td>1.000000</td>\n",
       "      <td>1.000000</td>\n",
       "    </tr>\n",
       "    <tr>\n",
       "      <th>50%</th>\n",
       "      <td>1.000000</td>\n",
       "      <td>2.000000</td>\n",
       "      <td>18.000000</td>\n",
       "      <td>2.00000</td>\n",
       "      <td>2.000000</td>\n",
       "      <td>2319.50000</td>\n",
       "      <td>3.000000</td>\n",
       "      <td>3.00000</td>\n",
       "      <td>3.000000</td>\n",
       "      <td>2.000000</td>\n",
       "      <td>33.000000</td>\n",
       "      <td>2.000000</td>\n",
       "      <td>1.000000</td>\n",
       "      <td>3.000000</td>\n",
       "      <td>1.000000</td>\n",
       "      <td>1.000000</td>\n",
       "    </tr>\n",
       "    <tr>\n",
       "      <th>75%</th>\n",
       "      <td>1.000000</td>\n",
       "      <td>3.000000</td>\n",
       "      <td>24.000000</td>\n",
       "      <td>4.00000</td>\n",
       "      <td>3.000000</td>\n",
       "      <td>3972.25000</td>\n",
       "      <td>5.000000</td>\n",
       "      <td>3.00000</td>\n",
       "      <td>4.000000</td>\n",
       "      <td>3.000000</td>\n",
       "      <td>42.000000</td>\n",
       "      <td>2.000000</td>\n",
       "      <td>2.000000</td>\n",
       "      <td>3.000000</td>\n",
       "      <td>2.000000</td>\n",
       "      <td>1.000000</td>\n",
       "    </tr>\n",
       "    <tr>\n",
       "      <th>max</th>\n",
       "      <td>1.000000</td>\n",
       "      <td>3.000000</td>\n",
       "      <td>72.000000</td>\n",
       "      <td>4.00000</td>\n",
       "      <td>10.000000</td>\n",
       "      <td>18424.00000</td>\n",
       "      <td>5.000000</td>\n",
       "      <td>4.00000</td>\n",
       "      <td>4.000000</td>\n",
       "      <td>4.000000</td>\n",
       "      <td>75.000000</td>\n",
       "      <td>3.000000</td>\n",
       "      <td>4.000000</td>\n",
       "      <td>4.000000</td>\n",
       "      <td>2.000000</td>\n",
       "      <td>2.000000</td>\n",
       "    </tr>\n",
       "  </tbody>\n",
       "</table>\n",
       "</div>"
      ],
      "text/plain": [
       "       Creditability  AccountBalance  CreditDuration     Payment      Purpose  \\\n",
       "count    1000.000000     1000.000000     1000.000000  1000.00000  1000.000000   \n",
       "mean        0.700000        2.183000       20.903000     2.54500     2.828000   \n",
       "std         0.458487        0.835589       12.058814     1.08312     2.744439   \n",
       "min         0.000000        1.000000        4.000000     0.00000     0.000000   \n",
       "25%         0.000000        1.000000       12.000000     2.00000     1.000000   \n",
       "50%         1.000000        2.000000       18.000000     2.00000     2.000000   \n",
       "75%         1.000000        3.000000       24.000000     4.00000     3.000000   \n",
       "max         1.000000        3.000000       72.000000     4.00000    10.000000   \n",
       "\n",
       "       CreditAmount   Employment  SexMarital  CurrentAddress  MostValuable  \\\n",
       "count    1000.00000  1000.000000  1000.00000     1000.000000   1000.000000   \n",
       "mean     3271.24800     3.384000     2.68200        2.845000      2.358000   \n",
       "std      2822.75176     1.208306     0.70808        1.103718      1.050209   \n",
       "min       250.00000     1.000000     1.00000        1.000000      1.000000   \n",
       "25%      1365.50000     3.000000     2.00000        2.000000      1.000000   \n",
       "50%      2319.50000     3.000000     3.00000        3.000000      2.000000   \n",
       "75%      3972.25000     5.000000     3.00000        4.000000      3.000000   \n",
       "max     18424.00000     5.000000     4.00000        4.000000      4.000000   \n",
       "\n",
       "              Age  ApartmentType    NoCredits   Occupation    Telephone  \\\n",
       "count  983.000000    1000.000000  1000.000000  1000.000000  1000.000000   \n",
       "mean    35.495422       1.928000     1.407000     2.904000     1.404000   \n",
       "std     11.302980       0.530186     0.577654     0.653614     0.490943   \n",
       "min     19.000000       1.000000     1.000000     1.000000     1.000000   \n",
       "25%     27.000000       2.000000     1.000000     3.000000     1.000000   \n",
       "50%     33.000000       2.000000     1.000000     3.000000     1.000000   \n",
       "75%     42.000000       2.000000     2.000000     3.000000     2.000000   \n",
       "max     75.000000       3.000000     4.000000     4.000000     2.000000   \n",
       "\n",
       "       ForeignWorker  \n",
       "count    1000.000000  \n",
       "mean        1.037000  \n",
       "std         0.188856  \n",
       "min         1.000000  \n",
       "25%         1.000000  \n",
       "50%         1.000000  \n",
       "75%         1.000000  \n",
       "max         2.000000  "
      ]
     },
     "execution_count": 6,
     "metadata": {},
     "output_type": "execute_result"
    }
   ],
   "source": [
    "# 기초통계정보 확인\n",
    "data.describe()"
   ]
  },
  {
   "cell_type": "markdown",
   "metadata": {
    "id": "91cDDczO_Xvs"
   },
   "source": [
    "**4) 결측치 확인**\n",
    "\n",
    "- 결측치가 있는지 확인합니다."
   ]
  },
  {
   "cell_type": "code",
   "execution_count": 7,
   "metadata": {
    "colab": {
     "base_uri": "https://localhost:8080/"
    },
    "executionInfo": {
     "elapsed": 17,
     "status": "ok",
     "timestamp": 1643288436968,
     "user": {
      "displayName": "Jangrae Lee",
      "photoUrl": "https://lh3.googleusercontent.com/a-/AOh14Gh1Pd8OuWJU2cv7uTt-fURrgvty7atx_Wtarmx0-A=s64",
      "userId": "08475661575434032088"
     },
     "user_tz": -540
    },
    "id": "Lbwc3brE_Xvs",
    "outputId": "0660d033-eb30-48a0-8823-d600225974cc"
   },
   "outputs": [
    {
     "data": {
      "text/plain": [
       "Creditability      0\n",
       "AccountBalance     0\n",
       "CreditDuration     0\n",
       "Payment            0\n",
       "Purpose            0\n",
       "CreditAmount       0\n",
       "Employment         0\n",
       "SexMarital         0\n",
       "CurrentAddress     0\n",
       "MostValuable       0\n",
       "Age               17\n",
       "ApartmentType      0\n",
       "NoCredits          0\n",
       "Occupation         0\n",
       "Telephone          0\n",
       "ForeignWorker      0\n",
       "dtype: int64"
      ]
     },
     "execution_count": 7,
     "metadata": {},
     "output_type": "execute_result"
    }
   ],
   "source": [
    "# 결측치 확인\n",
    "data.isna().sum()"
   ]
  },
  {
   "cell_type": "markdown",
   "metadata": {
    "id": "Qi1lzucCokex"
   },
   "source": [
    "## 2.2.데이터 상세 확인(5가지 이상 추가)\n",
    "\n",
    "- 데이터를 **충분히 이해할 수 있도록** 집계와 시각화를 통해 살펴봅니다.\n",
    "- 이후 모델링을 진행해야 하니 분석에 너무 많은 시간을 할애해서는 안됩니다.\n",
    "- 분석 결과를 관련 코드 셀 아래에 정리합니다."
   ]
  },
  {
   "cell_type": "markdown",
   "metadata": {
    "id": "GguNvufhozPG"
   },
   "source": [
    "**1) Target 값 분포 확인**\n",
    "\n",
    "- Target 변수인 Creditability 변수의 값 분포를 확인합니다."
   ]
  },
  {
   "cell_type": "code",
   "execution_count": 8,
   "metadata": {
    "colab": {
     "base_uri": "https://localhost:8080/"
    },
    "executionInfo": {
     "elapsed": 15,
     "status": "ok",
     "timestamp": 1643288436969,
     "user": {
      "displayName": "Jangrae Lee",
      "photoUrl": "https://lh3.googleusercontent.com/a-/AOh14Gh1Pd8OuWJU2cv7uTt-fURrgvty7atx_Wtarmx0-A=s64",
      "userId": "08475661575434032088"
     },
     "user_tz": -540
    },
    "id": "a_qGs5Eho-fz",
    "outputId": "4af293a3-74d2-4b06-b83a-45c9cce798ff"
   },
   "outputs": [
    {
     "name": "stdout",
     "output_type": "stream",
     "text": [
      "1    700\n",
      "0    300\n",
      "Name: Creditability, dtype: int64\n"
     ]
    }
   ],
   "source": [
    "# 범주값별 개수 확인\n",
    "target = 'Creditability'\n",
    "print(data[target].value_counts())"
   ]
  },
  {
   "cell_type": "code",
   "execution_count": 9,
   "metadata": {},
   "outputs": [
    {
     "data": {
      "image/png": "[encoded data removed]",
      "text/plain": [
       "<Figure size 432x288 with 1 Axes>"
      ]
     },
     "metadata": {
      "image/png": {
       "height": 261,
       "width": 388
      },
      "needs_background": "light"
     },
     "output_type": "display_data"
    }
   ],
   "source": [
    "# Creditability 값의 분포 시각화\n",
    "sns.countplot(x=target, data=data)\n",
    "plt.show()"
   ]
  },
  {
   "cell_type": "markdown",
   "metadata": {
    "id": "W-WH6rqRphUk"
   },
   "source": [
    "- 데이터의 불균형이 있다.\n",
    "- 변수와 신용도 간 상관관계 분석 필요"
   ]
  },
  {
   "cell_type": "markdown",
   "metadata": {
    "id": "A8XlMa3oqGSh"
   },
   "source": [
    "**2) 변수 구분**\n",
    "\n",
    "- Target 변수(Creditability)를 제외한 변수를 범주형과 연속형으로 구분해 목륵을 정리합니다.\n",
    "- 목록 개수는 필요한 만큼 늘려 사용합니다.\n",
    "\n",
    "- 범주형 변수 (가변수화 대상)\n",
    "    - AccountBalance\n",
    "    - Purpose \n",
    "    - Employment  \n",
    "    - SexMarital  \n",
    "    - CurrentAddress\n",
    "    - Payment\n",
    "    - MostValuable\n",
    "    - ApartmentType\n",
    "    - NoCredits\n",
    "    - Occupation\n",
    "    - Telephone\n",
    "    - ForeignWorker\n",
    "\n",
    "- 연속형 변수 (정규화 대상)\n",
    "    - CreditDuration\n",
    "    - CreditAmount\n",
    "    - Age"
   ]
  },
  {
   "cell_type": "markdown",
   "metadata": {
    "id": "A8XlMa3oqGSh"
   },
   "source": [
    "**3) 범주형 변수 확인**\n",
    "\n",
    "- Target 변수(Creditability)를 제외한 범주형 변수의 범주값과 그 값의 개수를 확인합니다.\n",
    "- 참고: 대상 변수를 리스트로 선언하고 반복문을 수행해 확인하면 편리합니다."
   ]
  },
  {
   "cell_type": "code",
   "execution_count": 10,
   "metadata": {
    "colab": {
     "base_uri": "https://localhost:8080/"
    },
    "executionInfo": {
     "elapsed": 13,
     "status": "ok",
     "timestamp": 1643288436969,
     "user": {
      "displayName": "Jangrae Lee",
      "photoUrl": "https://lh3.googleusercontent.com/a-/AOh14Gh1Pd8OuWJU2cv7uTt-fURrgvty7atx_Wtarmx0-A=s64",
      "userId": "08475661575434032088"
     },
     "user_tz": -540
    },
    "id": "IilazZjuqGSn",
    "outputId": "1dc0716d-c0c3-4c74-df5a-0fa7f3613223"
   },
   "outputs": [
    {
     "name": "stdout",
     "output_type": "stream",
     "text": [
      "3    457\n",
      "1    274\n",
      "2    269\n",
      "Name: AccountBalance, dtype: int64\n",
      "--------------------------------------------------\n",
      "2    530\n",
      "4    293\n",
      "3     88\n",
      "1     49\n",
      "0     40\n",
      "Name: Payment, dtype: int64\n",
      "--------------------------------------------------\n",
      "3     280\n",
      "0     234\n",
      "2     181\n",
      "1     103\n",
      "9      97\n",
      "6      50\n",
      "5      22\n",
      "4      12\n",
      "10     12\n",
      "8       9\n",
      "Name: Purpose, dtype: int64\n",
      "--------------------------------------------------\n",
      "3    339\n",
      "5    253\n",
      "4    174\n",
      "2    172\n",
      "1     62\n",
      "Name: Employment, dtype: int64\n",
      "--------------------------------------------------\n",
      "3    548\n",
      "2    310\n",
      "4     92\n",
      "1     50\n",
      "Name: SexMarital, dtype: int64\n",
      "--------------------------------------------------\n",
      "4    413\n",
      "2    308\n",
      "3    149\n",
      "1    130\n",
      "Name: CurrentAddress, dtype: int64\n",
      "--------------------------------------------------\n",
      "3    332\n",
      "1    282\n",
      "2    232\n",
      "4    154\n",
      "Name: MostValuable, dtype: int64\n",
      "--------------------------------------------------\n",
      "2    714\n",
      "1    179\n",
      "3    107\n",
      "Name: ApartmentType, dtype: int64\n",
      "--------------------------------------------------\n",
      "1    633\n",
      "2    333\n",
      "3     28\n",
      "4      6\n",
      "Name: NoCredits, dtype: int64\n",
      "--------------------------------------------------\n",
      "3    630\n",
      "2    200\n",
      "4    148\n",
      "1     22\n",
      "Name: Occupation, dtype: int64\n",
      "--------------------------------------------------\n",
      "1    596\n",
      "2    404\n",
      "Name: Telephone, dtype: int64\n",
      "--------------------------------------------------\n",
      "1    963\n",
      "2     37\n",
      "Name: ForeignWorker, dtype: int64\n",
      "--------------------------------------------------\n"
     ]
    }
   ],
   "source": [
    "# 연속형 변수 리스트 선언\n",
    "n_features = [target, 'CreditDuration', 'CreditAmount', 'Age']\n",
    "\n",
    "# 범주형 변수 리스트 선언\n",
    "c_features = [f for f in list(data) if f not in n_features]\n",
    "\n",
    "# 범주형 변수별 범주값과 그 값의 개수 확인\n",
    "for c_f in c_features:\n",
    "    print(data[c_f].value_counts())\n",
    "    print('-' * 50)"
   ]
  },
  {
   "cell_type": "markdown",
   "metadata": {
    "id": "K2Gk_rrHyhop"
   },
   "source": [
    "**4) Payment**"
   ]
  },
  {
   "cell_type": "code",
   "execution_count": 11,
   "metadata": {},
   "outputs": [
    {
     "data": {
      "image/png": "[encoded data removed]",
      "text/plain": [
       "<Figure size 432x288 with 1 Axes>"
      ]
     },
     "metadata": {
      "image/png": {
       "height": 261,
       "width": 388
      },
      "needs_background": "light"
     },
     "output_type": "display_data"
    }
   ],
   "source": [
    "feature = 'Payment'\n",
    "sns.countplot(data[feature])\n",
    "plt.show()"
   ]
  },
  {
   "cell_type": "code",
   "execution_count": 12,
   "metadata": {
    "colab": {
     "base_uri": "https://localhost:8080/",
     "height": 1000
    },
    "executionInfo": {
     "elapsed": 3583,
     "status": "ok",
     "timestamp": 1643288441062,
     "user": {
      "displayName": "Jangrae Lee",
      "photoUrl": "https://lh3.googleusercontent.com/a-/AOh14Gh1Pd8OuWJU2cv7uTt-fURrgvty7atx_Wtarmx0-A=s64",
      "userId": "08475661575434032088"
     },
     "user_tz": -540
    },
    "id": "J99d9yuUyhoq",
    "outputId": "f9b97a7f-29f5-4326-ea28-99fcfcd5d9f3",
    "scrolled": false
   },
   "outputs": [
    {
     "data": {
      "image/png": "[encoded data removed]",
      "text/plain": [
       "<Figure size 432x288 with 1 Axes>"
      ]
     },
     "metadata": {
      "image/png": {
       "height": 258,
       "width": 372
      },
      "needs_background": "light"
     },
     "output_type": "display_data"
    }
   ],
   "source": [
    "# Payment --> Credibility 값 분포\n",
    "feature = 'Payment'\n",
    "\n",
    "# 집계\n",
    "temp = pd.crosstab(data[feature], data[target], normalize = 'index')\n",
    "\n",
    "# 시각화\n",
    "temp.plot.bar(stacked=True)\n",
    "plt.axhline(1-data[target].mean(), color = 'r')\n",
    "plt.show()"
   ]
  },
  {
   "cell_type": "markdown",
   "metadata": {
    "id": "cE7V1lRryhor"
   },
   "source": [
    "- 연체되었거나, 잔여 대출금이 있는 경우 신용도가 낮은 고객들의 비율이 평균보다 높다.\n",
    "- 대출금을 완납한 경우 신용도가 높은 고객들의 비율이 평균보다 높다."
   ]
  },
  {
   "cell_type": "markdown",
   "metadata": {
    "id": "K2Gk_rrHyhop"
   },
   "source": [
    "**5) AccountBalance**\n",
    "\n",
    "- Credibility 변수 값으로 구분해 AccountBalance 변수 값의 분포를 stacked bar로 확인"
   ]
  },
  {
   "cell_type": "code",
   "execution_count": 13,
   "metadata": {},
   "outputs": [
    {
     "data": {
      "image/png": "[encoded data removed]",
      "text/plain": [
       "<Figure size 432x288 with 1 Axes>"
      ]
     },
     "metadata": {
      "image/png": {
       "height": 261,
       "width": 388
      },
      "needs_background": "light"
     },
     "output_type": "display_data"
    }
   ],
   "source": [
    "feature = 'AccountBalance'\n",
    "sns.countplot(data[feature])\n",
    "plt.show()"
   ]
  },
  {
   "cell_type": "code",
   "execution_count": 14,
   "metadata": {
    "colab": {
     "base_uri": "https://localhost:8080/",
     "height": 1000
    },
    "executionInfo": {
     "elapsed": 3583,
     "status": "ok",
     "timestamp": 1643288441062,
     "user": {
      "displayName": "Jangrae Lee",
      "photoUrl": "https://lh3.googleusercontent.com/a-/AOh14Gh1Pd8OuWJU2cv7uTt-fURrgvty7atx_Wtarmx0-A=s64",
      "userId": "08475661575434032088"
     },
     "user_tz": -540
    },
    "id": "J99d9yuUyhoq",
    "outputId": "f9b97a7f-29f5-4326-ea28-99fcfcd5d9f3",
    "scrolled": false
   },
   "outputs": [
    {
     "data": {
      "image/png": "[encoded data removed]",
      "text/plain": [
       "<Figure size 432x288 with 1 Axes>"
      ]
     },
     "metadata": {
      "image/png": {
       "height": 258,
       "width": 372
      },
      "needs_background": "light"
     },
     "output_type": "display_data"
    }
   ],
   "source": [
    "# AccountBalance --> Credibility 값 분포\n",
    "feature = 'AccountBalance'\n",
    "\n",
    "# 집계\n",
    "temp = pd.crosstab(data[feature], data[target], normalize = 'index')\n",
    "\n",
    "# 시각화\n",
    "temp.plot.bar(stacked=True)\n",
    "plt.axhline(1-data[target].mean(), color = 'r')\n",
    "plt.show()"
   ]
  },
  {
   "cell_type": "markdown",
   "metadata": {
    "id": "cE7V1lRryhor"
   },
   "source": [
    "- 계좌를 개설하지 않았거나 잔금이 없는 경우 신용도가 낮은 고객의 비율이 평균보다 높다.\n",
    "- 잔금이 있는 경우 신용도가 높은 고객의 비율이 평균보다 높다."
   ]
  },
  {
   "cell_type": "markdown",
   "metadata": {
    "id": "K2Gk_rrHyhop"
   },
   "source": [
    "**6) ApartmentType**\n",
    "\n",
    "- Credibility 변수 값으로 구분해 ApartmentType 변수 값의 분포를 stacked bar로 확인"
   ]
  },
  {
   "cell_type": "code",
   "execution_count": 15,
   "metadata": {},
   "outputs": [
    {
     "data": {
      "image/png": "[encoded data removed]",
      "text/plain": [
       "<Figure size 432x288 with 1 Axes>"
      ]
     },
     "metadata": {
      "image/png": {
       "height": 258,
       "width": 372
      },
      "needs_background": "light"
     },
     "output_type": "display_data"
    }
   ],
   "source": [
    "# ApartmentType --> Credibility 값 분포\n",
    "feature = 'ApartmentType'\n",
    "\n",
    "# 집계\n",
    "temp = pd.crosstab(data[feature], data[target], normalize = 'index')\n",
    "\n",
    "# 시각화\n",
    "temp.plot.bar(stacked=True)\n",
    "plt.axhline(1-data[target].mean(), color = 'r')\n",
    "plt.show()"
   ]
  },
  {
   "cell_type": "markdown",
   "metadata": {
    "id": "cE7V1lRryhor"
   },
   "source": [
    "- 임대 주택에 거주하는 경우 신용도가 높은 고객들의 비율이 평균보다 높다.\n",
    "- 주거 환경과 신용도 간의 약한 상관관계가 있는 것으로 보인다."
   ]
  },
  {
   "cell_type": "markdown",
   "metadata": {
    "id": "K2Gk_rrHyhop"
   },
   "source": [
    "**7) CreditAmount**\n",
    "\n",
    "- Credibility 변수 값으로 구분해 CreditAmount 변수 값의 분포를 histogram으로 확인"
   ]
  },
  {
   "cell_type": "code",
   "execution_count": 16,
   "metadata": {
    "colab": {
     "base_uri": "https://localhost:8080/",
     "height": 1000
    },
    "executionInfo": {
     "elapsed": 3583,
     "status": "ok",
     "timestamp": 1643288441062,
     "user": {
      "displayName": "Jangrae Lee",
      "photoUrl": "https://lh3.googleusercontent.com/a-/AOh14Gh1Pd8OuWJU2cv7uTt-fURrgvty7atx_Wtarmx0-A=s64",
      "userId": "08475661575434032088"
     },
     "user_tz": -540
    },
    "id": "J99d9yuUyhoq",
    "outputId": "f9b97a7f-29f5-4326-ea28-99fcfcd5d9f3",
    "scrolled": false
   },
   "outputs": [
    {
     "data": {
      "image/png": "[encoded data removed]",
      "text/plain": [
       "<Figure size 432x288 with 1 Axes>"
      ]
     },
     "metadata": {
      "image/png": {
       "height": 261,
       "width": 388
      },
      "needs_background": "light"
     },
     "output_type": "display_data"
    }
   ],
   "source": [
    "# CreditAmount --> Credibility 값 분포\n",
    "sns.histplot(x=data['CreditAmount'], hue=data[target], bins=30)\n",
    "plt.show()"
   ]
  },
  {
   "cell_type": "markdown",
   "metadata": {
    "id": "cE7V1lRryhor"
   },
   "source": [
    "- 약 10000달러를 기준으로 분포가 나뉜다.\n",
    "- 대출금액이 낮을 수록 신용도가 높은 고객들의 비율이 높아지는 경향이 있다."
   ]
  },
  {
   "cell_type": "markdown",
   "metadata": {
    "id": "K2Gk_rrHyhop"
   },
   "source": [
    "**8) CreditDuration**\n",
    "\n",
    "- Credibility 변수 값으로 구분해 CreditDuration 변수 값의 분포를 histogram으로 확인"
   ]
  },
  {
   "cell_type": "code",
   "execution_count": 17,
   "metadata": {
    "colab": {
     "base_uri": "https://localhost:8080/",
     "height": 1000
    },
    "executionInfo": {
     "elapsed": 3583,
     "status": "ok",
     "timestamp": 1643288441062,
     "user": {
      "displayName": "Jangrae Lee",
      "photoUrl": "https://lh3.googleusercontent.com/a-/AOh14Gh1Pd8OuWJU2cv7uTt-fURrgvty7atx_Wtarmx0-A=s64",
      "userId": "08475661575434032088"
     },
     "user_tz": -540
    },
    "id": "J99d9yuUyhoq",
    "outputId": "f9b97a7f-29f5-4326-ea28-99fcfcd5d9f3",
    "scrolled": false
   },
   "outputs": [
    {
     "data": {
      "image/png": "[encoded data removed]",
      "text/plain": [
       "<Figure size 432x288 with 1 Axes>"
      ]
     },
     "metadata": {
      "image/png": {
       "height": 261,
       "width": 388
      },
      "needs_background": "light"
     },
     "output_type": "display_data"
    }
   ],
   "source": [
    "# CreditDuration --> Credibility 값 분포\n",
    "sns.histplot(x=data['CreditDuration'], hue=data[target], bins=30)\n",
    "plt.show()"
   ]
  },
  {
   "cell_type": "markdown",
   "metadata": {
    "id": "cE7V1lRryhor"
   },
   "source": [
    "- 약 50개월을 기준으로 분포가 나뉜다.\n",
    "- 신청한 대출기간이 30개월 이상인 경우 신용도가 낮은 고객들의 비율이 높아지는 경향이 있다."
   ]
  },
  {
   "cell_type": "markdown",
   "metadata": {
    "id": "wW0d0eGmCYJM"
   },
   "source": [
    "# 3.데이터 준비\n",
    "\n",
    "- 전처리 과정을 통해 머신러닝 알고리즘에 사용할 수 있는 형태의 데이터를 준비합니다."
   ]
  },
  {
   "cell_type": "markdown",
   "metadata": {
    "id": "_4n3nQpPlwFQ"
   },
   "source": [
    "**1) 결측치 처리**\n",
    "\n",
    "- Age 변수에 대한 결측치 처리를 진행합니다.\n",
    "- 데이터 양이 많지 않으니 제거 보다는 채우기를 권고합니다."
   ]
  },
  {
   "cell_type": "code",
   "execution_count": 18,
   "metadata": {
    "colab": {
     "base_uri": "https://localhost:8080/"
    },
    "executionInfo": {
     "elapsed": 10,
     "status": "ok",
     "timestamp": 1643288443213,
     "user": {
      "displayName": "Jangrae Lee",
      "photoUrl": "https://lh3.googleusercontent.com/a-/AOh14Gh1Pd8OuWJU2cv7uTt-fURrgvty7atx_Wtarmx0-A=s64",
      "userId": "08475661575434032088"
     },
     "user_tz": -540
    },
    "id": "R_2eZckwlwFQ",
    "outputId": "7a48e9a5-e855-4d53-96d2-b1c7e7370479"
   },
   "outputs": [
    {
     "name": "stdout",
     "output_type": "stream",
     "text": [
      "Creditability     0\n",
      "AccountBalance    0\n",
      "CreditDuration    0\n",
      "Payment           0\n",
      "Purpose           0\n",
      "CreditAmount      0\n",
      "Employment        0\n",
      "SexMarital        0\n",
      "CurrentAddress    0\n",
      "MostValuable      0\n",
      "Age               0\n",
      "ApartmentType     0\n",
      "NoCredits         0\n",
      "Occupation        0\n",
      "Telephone         0\n",
      "ForeignWorker     0\n",
      "dtype: int64\n"
     ]
    }
   ],
   "source": [
    "# 평균값으로 채우기\n",
    "age_mean = data['Age'].mean()\n",
    "data['Age'].fillna(age_mean, inplace=True)\n",
    "print(data.isna().sum())"
   ]
  },
  {
   "cell_type": "markdown",
   "metadata": {
    "id": "udAt9UG-6kJc"
   },
   "source": [
    "**2) x, y 분리**\n",
    "\n",
    "- Target을 선정하고 x, y를 분리합니다."
   ]
  },
  {
   "cell_type": "code",
   "execution_count": 19,
   "metadata": {
    "executionInfo": {
     "elapsed": 8,
     "status": "ok",
     "timestamp": 1643288443214,
     "user": {
      "displayName": "Jangrae Lee",
      "photoUrl": "https://lh3.googleusercontent.com/a-/AOh14Gh1Pd8OuWJU2cv7uTt-fURrgvty7atx_Wtarmx0-A=s64",
      "userId": "08475661575434032088"
     },
     "user_tz": -540
    },
    "id": "Ops0CDL2dEDe"
   },
   "outputs": [],
   "source": [
    "target = 'Creditability'\n",
    "\n",
    "# x, y 분리\n",
    "x = data.drop(target, axis=1)\n",
    "y = data[target]"
   ]
  },
  {
   "cell_type": "markdown",
   "metadata": {
    "id": "ZgonRH_alwFR"
   },
   "source": [
    "**3) 가변수화**\n",
    "\n",
    "- 앞에서 범주형으로 구분한 변수에 대해 가변수화를 수행합니다.\n",
    "- 참고: 이미 x, y로 분리가 되었으니 x에 대한 가변수화를 수행해야 합니다.\n"
   ]
  },
  {
   "cell_type": "code",
   "execution_count": 20,
   "metadata": {
    "colab": {
     "base_uri": "https://localhost:8080/",
     "height": 270
    },
    "executionInfo": {
     "elapsed": 8,
     "status": "ok",
     "timestamp": 1643288443214,
     "user": {
      "displayName": "Jangrae Lee",
      "photoUrl": "https://lh3.googleusercontent.com/a-/AOh14Gh1Pd8OuWJU2cv7uTt-fURrgvty7atx_Wtarmx0-A=s64",
      "userId": "08475661575434032088"
     },
     "user_tz": -540
    },
    "id": "PixTt7ielwFS",
    "outputId": "71566ec8-6f5f-46d6-d400-3ac70e834d26"
   },
   "outputs": [
    {
     "name": "stdout",
     "output_type": "stream",
     "text": [
      "   Creditability  AccountBalance  CreditDuration  Payment  Purpose  \\\n",
      "0              1               3              24        2        0   \n",
      "1              1               2               9        2        0   \n",
      "2              1               1              18        4        2   \n",
      "3              1               1              24        4        1   \n",
      "4              1               3              12        2        2   \n",
      "\n",
      "   CreditAmount  Employment  SexMarital  CurrentAddress  MostValuable  \\\n",
      "0          1249           2           4               2             1   \n",
      "1           276           3           4               4             1   \n",
      "2          1049           2           2               4             2   \n",
      "3          6419           5           2               4             4   \n",
      "4          1424           5           2               4             1   \n",
      "\n",
      "         Age  ApartmentType  NoCredits  Occupation  Telephone  ForeignWorker  \n",
      "0  28.000000              2          1           3          1              1  \n",
      "1  22.000000              1          1           2          1              1  \n",
      "2  21.000000              1          1           3          1              1  \n",
      "3  35.495422              3          2           4          2              1  \n",
      "4  55.000000              2          1           4          2              1  \n",
      "<class 'pandas.core.frame.DataFrame'>\n",
      "RangeIndex: 1000 entries, 0 to 999\n",
      "Data columns (total 16 columns):\n",
      " #   Column          Non-Null Count  Dtype  \n",
      "---  ------          --------------  -----  \n",
      " 0   Creditability   1000 non-null   int64  \n",
      " 1   AccountBalance  1000 non-null   int64  \n",
      " 2   CreditDuration  1000 non-null   int64  \n",
      " 3   Payment         1000 non-null   int64  \n",
      " 4   Purpose         1000 non-null   int64  \n",
      " 5   CreditAmount    1000 non-null   int64  \n",
      " 6   Employment      1000 non-null   int64  \n",
      " 7   SexMarital      1000 non-null   int64  \n",
      " 8   CurrentAddress  1000 non-null   int64  \n",
      " 9   MostValuable    1000 non-null   int64  \n",
      " 10  Age             1000 non-null   float64\n",
      " 11  ApartmentType   1000 non-null   int64  \n",
      " 12  NoCredits       1000 non-null   int64  \n",
      " 13  Occupation      1000 non-null   int64  \n",
      " 14  Telephone       1000 non-null   int64  \n",
      " 15  ForeignWorker   1000 non-null   int64  \n",
      "dtypes: float64(1), int64(15)\n",
      "memory usage: 125.1 KB\n",
      "None\n"
     ]
    }
   ],
   "source": [
    "# 가변수화\n",
    "x = pd.get_dummies(x, columns=c_features, drop_first=True)\n",
    "\n",
    "# 확인\n",
    "print(data.head())\n",
    "print(data.info())"
   ]
  },
  {
   "cell_type": "markdown",
   "metadata": {
    "id": "lRSdMEhMlwFS"
   },
   "source": [
    "**4) 정규화**\n",
    "\n",
    "- 앞에서 연속형으로 구분한 변수에 대해 정규화를 진행합니다."
   ]
  },
  {
   "cell_type": "code",
   "execution_count": 21,
   "metadata": {
    "colab": {
     "base_uri": "https://localhost:8080/",
     "height": 270
    },
    "executionInfo": {
     "elapsed": 550,
     "status": "ok",
     "timestamp": 1643288443757,
     "user": {
      "displayName": "Jangrae Lee",
      "photoUrl": "https://lh3.googleusercontent.com/a-/AOh14Gh1Pd8OuWJU2cv7uTt-fURrgvty7atx_Wtarmx0-A=s64",
      "userId": "08475661575434032088"
     },
     "user_tz": -540
    },
    "id": "afYU5bVYlwFS",
    "outputId": "d4c4b3cd-7597-42d0-fb50-1601974bbc9e"
   },
   "outputs": [
    {
     "data": {
      "text/html": [
       "<div>\n",
       "<style scoped>\n",
       "    .dataframe tbody tr th:only-of-type {\n",
       "        vertical-align: middle;\n",
       "    }\n",
       "\n",
       "    .dataframe tbody tr th {\n",
       "        vertical-align: top;\n",
       "    }\n",
       "\n",
       "    .dataframe thead th {\n",
       "        text-align: right;\n",
       "    }\n",
       "</style>\n",
       "<table border=\"1\" class=\"dataframe\">\n",
       "  <thead>\n",
       "    <tr style=\"text-align: right;\">\n",
       "      <th></th>\n",
       "      <th>CreditDuration</th>\n",
       "      <th>CreditAmount</th>\n",
       "      <th>Age</th>\n",
       "      <th>AccountBalance_2</th>\n",
       "      <th>AccountBalance_3</th>\n",
       "      <th>Payment_1</th>\n",
       "      <th>Payment_2</th>\n",
       "      <th>Payment_3</th>\n",
       "      <th>Payment_4</th>\n",
       "      <th>Purpose_1</th>\n",
       "      <th>...</th>\n",
       "      <th>ApartmentType_2</th>\n",
       "      <th>ApartmentType_3</th>\n",
       "      <th>NoCredits_2</th>\n",
       "      <th>NoCredits_3</th>\n",
       "      <th>NoCredits_4</th>\n",
       "      <th>Occupation_2</th>\n",
       "      <th>Occupation_3</th>\n",
       "      <th>Occupation_4</th>\n",
       "      <th>Telephone_2</th>\n",
       "      <th>ForeignWorker_2</th>\n",
       "    </tr>\n",
       "  </thead>\n",
       "  <tbody>\n",
       "    <tr>\n",
       "      <th>0</th>\n",
       "      <td>0.294118</td>\n",
       "      <td>0.054969</td>\n",
       "      <td>0.160714</td>\n",
       "      <td>0</td>\n",
       "      <td>1</td>\n",
       "      <td>0</td>\n",
       "      <td>1</td>\n",
       "      <td>0</td>\n",
       "      <td>0</td>\n",
       "      <td>0</td>\n",
       "      <td>...</td>\n",
       "      <td>1</td>\n",
       "      <td>0</td>\n",
       "      <td>0</td>\n",
       "      <td>0</td>\n",
       "      <td>0</td>\n",
       "      <td>0</td>\n",
       "      <td>1</td>\n",
       "      <td>0</td>\n",
       "      <td>0</td>\n",
       "      <td>0</td>\n",
       "    </tr>\n",
       "    <tr>\n",
       "      <th>1</th>\n",
       "      <td>0.073529</td>\n",
       "      <td>0.001431</td>\n",
       "      <td>0.053571</td>\n",
       "      <td>1</td>\n",
       "      <td>0</td>\n",
       "      <td>0</td>\n",
       "      <td>1</td>\n",
       "      <td>0</td>\n",
       "      <td>0</td>\n",
       "      <td>0</td>\n",
       "      <td>...</td>\n",
       "      <td>0</td>\n",
       "      <td>0</td>\n",
       "      <td>0</td>\n",
       "      <td>0</td>\n",
       "      <td>0</td>\n",
       "      <td>1</td>\n",
       "      <td>0</td>\n",
       "      <td>0</td>\n",
       "      <td>0</td>\n",
       "      <td>0</td>\n",
       "    </tr>\n",
       "    <tr>\n",
       "      <th>2</th>\n",
       "      <td>0.205882</td>\n",
       "      <td>0.043964</td>\n",
       "      <td>0.035714</td>\n",
       "      <td>0</td>\n",
       "      <td>0</td>\n",
       "      <td>0</td>\n",
       "      <td>0</td>\n",
       "      <td>0</td>\n",
       "      <td>1</td>\n",
       "      <td>0</td>\n",
       "      <td>...</td>\n",
       "      <td>0</td>\n",
       "      <td>0</td>\n",
       "      <td>0</td>\n",
       "      <td>0</td>\n",
       "      <td>0</td>\n",
       "      <td>0</td>\n",
       "      <td>1</td>\n",
       "      <td>0</td>\n",
       "      <td>0</td>\n",
       "      <td>0</td>\n",
       "    </tr>\n",
       "    <tr>\n",
       "      <th>3</th>\n",
       "      <td>0.294118</td>\n",
       "      <td>0.339441</td>\n",
       "      <td>0.294561</td>\n",
       "      <td>0</td>\n",
       "      <td>0</td>\n",
       "      <td>0</td>\n",
       "      <td>0</td>\n",
       "      <td>0</td>\n",
       "      <td>1</td>\n",
       "      <td>1</td>\n",
       "      <td>...</td>\n",
       "      <td>0</td>\n",
       "      <td>1</td>\n",
       "      <td>1</td>\n",
       "      <td>0</td>\n",
       "      <td>0</td>\n",
       "      <td>0</td>\n",
       "      <td>0</td>\n",
       "      <td>1</td>\n",
       "      <td>1</td>\n",
       "      <td>0</td>\n",
       "    </tr>\n",
       "    <tr>\n",
       "      <th>4</th>\n",
       "      <td>0.117647</td>\n",
       "      <td>0.064598</td>\n",
       "      <td>0.642857</td>\n",
       "      <td>0</td>\n",
       "      <td>1</td>\n",
       "      <td>0</td>\n",
       "      <td>1</td>\n",
       "      <td>0</td>\n",
       "      <td>0</td>\n",
       "      <td>0</td>\n",
       "      <td>...</td>\n",
       "      <td>1</td>\n",
       "      <td>0</td>\n",
       "      <td>0</td>\n",
       "      <td>0</td>\n",
       "      <td>0</td>\n",
       "      <td>0</td>\n",
       "      <td>0</td>\n",
       "      <td>1</td>\n",
       "      <td>1</td>\n",
       "      <td>0</td>\n",
       "    </tr>\n",
       "    <tr>\n",
       "      <th>...</th>\n",
       "      <td>...</td>\n",
       "      <td>...</td>\n",
       "      <td>...</td>\n",
       "      <td>...</td>\n",
       "      <td>...</td>\n",
       "      <td>...</td>\n",
       "      <td>...</td>\n",
       "      <td>...</td>\n",
       "      <td>...</td>\n",
       "      <td>...</td>\n",
       "      <td>...</td>\n",
       "      <td>...</td>\n",
       "      <td>...</td>\n",
       "      <td>...</td>\n",
       "      <td>...</td>\n",
       "      <td>...</td>\n",
       "      <td>...</td>\n",
       "      <td>...</td>\n",
       "      <td>...</td>\n",
       "      <td>...</td>\n",
       "      <td>...</td>\n",
       "    </tr>\n",
       "    <tr>\n",
       "      <th>995</th>\n",
       "      <td>0.117647</td>\n",
       "      <td>0.078684</td>\n",
       "      <td>0.285714</td>\n",
       "      <td>0</td>\n",
       "      <td>0</td>\n",
       "      <td>0</td>\n",
       "      <td>1</td>\n",
       "      <td>0</td>\n",
       "      <td>0</td>\n",
       "      <td>0</td>\n",
       "      <td>...</td>\n",
       "      <td>1</td>\n",
       "      <td>0</td>\n",
       "      <td>0</td>\n",
       "      <td>0</td>\n",
       "      <td>0</td>\n",
       "      <td>0</td>\n",
       "      <td>1</td>\n",
       "      <td>0</td>\n",
       "      <td>0</td>\n",
       "      <td>0</td>\n",
       "    </tr>\n",
       "    <tr>\n",
       "      <th>996</th>\n",
       "      <td>0.558824</td>\n",
       "      <td>0.419941</td>\n",
       "      <td>0.464286</td>\n",
       "      <td>0</td>\n",
       "      <td>0</td>\n",
       "      <td>0</td>\n",
       "      <td>1</td>\n",
       "      <td>0</td>\n",
       "      <td>0</td>\n",
       "      <td>0</td>\n",
       "      <td>...</td>\n",
       "      <td>0</td>\n",
       "      <td>1</td>\n",
       "      <td>0</td>\n",
       "      <td>0</td>\n",
       "      <td>0</td>\n",
       "      <td>0</td>\n",
       "      <td>1</td>\n",
       "      <td>0</td>\n",
       "      <td>0</td>\n",
       "      <td>0</td>\n",
       "    </tr>\n",
       "    <tr>\n",
       "      <th>997</th>\n",
       "      <td>0.735294</td>\n",
       "      <td>0.863596</td>\n",
       "      <td>0.696429</td>\n",
       "      <td>1</td>\n",
       "      <td>0</td>\n",
       "      <td>0</td>\n",
       "      <td>0</td>\n",
       "      <td>0</td>\n",
       "      <td>0</td>\n",
       "      <td>0</td>\n",
       "      <td>...</td>\n",
       "      <td>0</td>\n",
       "      <td>0</td>\n",
       "      <td>0</td>\n",
       "      <td>0</td>\n",
       "      <td>0</td>\n",
       "      <td>0</td>\n",
       "      <td>1</td>\n",
       "      <td>0</td>\n",
       "      <td>1</td>\n",
       "      <td>0</td>\n",
       "    </tr>\n",
       "    <tr>\n",
       "      <th>998</th>\n",
       "      <td>0.161765</td>\n",
       "      <td>0.070815</td>\n",
       "      <td>0.553571</td>\n",
       "      <td>1</td>\n",
       "      <td>0</td>\n",
       "      <td>0</td>\n",
       "      <td>0</td>\n",
       "      <td>0</td>\n",
       "      <td>1</td>\n",
       "      <td>0</td>\n",
       "      <td>...</td>\n",
       "      <td>1</td>\n",
       "      <td>0</td>\n",
       "      <td>1</td>\n",
       "      <td>0</td>\n",
       "      <td>0</td>\n",
       "      <td>0</td>\n",
       "      <td>1</td>\n",
       "      <td>0</td>\n",
       "      <td>1</td>\n",
       "      <td>0</td>\n",
       "    </tr>\n",
       "    <tr>\n",
       "      <th>999</th>\n",
       "      <td>0.117647</td>\n",
       "      <td>0.062507</td>\n",
       "      <td>0.125000</td>\n",
       "      <td>0</td>\n",
       "      <td>1</td>\n",
       "      <td>0</td>\n",
       "      <td>1</td>\n",
       "      <td>0</td>\n",
       "      <td>0</td>\n",
       "      <td>0</td>\n",
       "      <td>...</td>\n",
       "      <td>1</td>\n",
       "      <td>0</td>\n",
       "      <td>0</td>\n",
       "      <td>0</td>\n",
       "      <td>0</td>\n",
       "      <td>0</td>\n",
       "      <td>1</td>\n",
       "      <td>0</td>\n",
       "      <td>0</td>\n",
       "      <td>0</td>\n",
       "    </tr>\n",
       "  </tbody>\n",
       "</table>\n",
       "<p>1000 rows × 41 columns</p>\n",
       "</div>"
      ],
      "text/plain": [
       "     CreditDuration  CreditAmount       Age  AccountBalance_2  \\\n",
       "0          0.294118      0.054969  0.160714                 0   \n",
       "1          0.073529      0.001431  0.053571                 1   \n",
       "2          0.205882      0.043964  0.035714                 0   \n",
       "3          0.294118      0.339441  0.294561                 0   \n",
       "4          0.117647      0.064598  0.642857                 0   \n",
       "..              ...           ...       ...               ...   \n",
       "995        0.117647      0.078684  0.285714                 0   \n",
       "996        0.558824      0.419941  0.464286                 0   \n",
       "997        0.735294      0.863596  0.696429                 1   \n",
       "998        0.161765      0.070815  0.553571                 1   \n",
       "999        0.117647      0.062507  0.125000                 0   \n",
       "\n",
       "     AccountBalance_3  Payment_1  Payment_2  Payment_3  Payment_4  Purpose_1  \\\n",
       "0                   1          0          1          0          0          0   \n",
       "1                   0          0          1          0          0          0   \n",
       "2                   0          0          0          0          1          0   \n",
       "3                   0          0          0          0          1          1   \n",
       "4                   1          0          1          0          0          0   \n",
       "..                ...        ...        ...        ...        ...        ...   \n",
       "995                 0          0          1          0          0          0   \n",
       "996                 0          0          1          0          0          0   \n",
       "997                 0          0          0          0          0          0   \n",
       "998                 0          0          0          0          1          0   \n",
       "999                 1          0          1          0          0          0   \n",
       "\n",
       "     ...  ApartmentType_2  ApartmentType_3  NoCredits_2  NoCredits_3  \\\n",
       "0    ...                1                0            0            0   \n",
       "1    ...                0                0            0            0   \n",
       "2    ...                0                0            0            0   \n",
       "3    ...                0                1            1            0   \n",
       "4    ...                1                0            0            0   \n",
       "..   ...              ...              ...          ...          ...   \n",
       "995  ...                1                0            0            0   \n",
       "996  ...                0                1            0            0   \n",
       "997  ...                0                0            0            0   \n",
       "998  ...                1                0            1            0   \n",
       "999  ...                1                0            0            0   \n",
       "\n",
       "     NoCredits_4  Occupation_2  Occupation_3  Occupation_4  Telephone_2  \\\n",
       "0              0             0             1             0            0   \n",
       "1              0             1             0             0            0   \n",
       "2              0             0             1             0            0   \n",
       "3              0             0             0             1            1   \n",
       "4              0             0             0             1            1   \n",
       "..           ...           ...           ...           ...          ...   \n",
       "995            0             0             1             0            0   \n",
       "996            0             0             1             0            0   \n",
       "997            0             0             1             0            1   \n",
       "998            0             0             1             0            1   \n",
       "999            0             0             1             0            0   \n",
       "\n",
       "     ForeignWorker_2  \n",
       "0                  0  \n",
       "1                  0  \n",
       "2                  0  \n",
       "3                  0  \n",
       "4                  0  \n",
       "..               ...  \n",
       "995                0  \n",
       "996                0  \n",
       "997                0  \n",
       "998                0  \n",
       "999                0  \n",
       "\n",
       "[1000 rows x 41 columns]"
      ]
     },
     "execution_count": 21,
     "metadata": {},
     "output_type": "execute_result"
    }
   ],
   "source": [
    "# 정규화\n",
    "n_features.remove('Creditability')\n",
    "x[n_features] = (x[n_features] - x[n_features].min()) / (x[n_features].max() - x[n_features].min())\n",
    "\n",
    "# 확인\n",
    "x"
   ]
  },
  {
   "cell_type": "markdown",
   "metadata": {
    "id": "anVdtyyB6oqT"
   },
   "source": [
    "**5) 학습용, 평가용 데이터 분리**\n",
    "\n",
    "\n",
    "- 모델링을 위해 학습용, 평가용 데이터를 분리합니다."
   ]
  },
  {
   "cell_type": "code",
   "execution_count": 22,
   "metadata": {
    "executionInfo": {
     "elapsed": 4,
     "status": "ok",
     "timestamp": 1643288443758,
     "user": {
      "displayName": "Jangrae Lee",
      "photoUrl": "https://lh3.googleusercontent.com/a-/AOh14Gh1Pd8OuWJU2cv7uTt-fURrgvty7atx_Wtarmx0-A=s64",
      "userId": "08475661575434032088"
     },
     "user_tz": -540
    },
    "id": "uHnuBUJu8uwz"
   },
   "outputs": [],
   "source": [
    "# 모듈 불러오기\n",
    "from sklearn.model_selection import train_test_split\n",
    "\n",
    "# 7:3으로 분리\n",
    "x_train, x_test, y_train, y_test = train_test_split(x, y, test_size=0.3, random_state=2022)"
   ]
  },
  {
   "cell_type": "markdown",
   "metadata": {
    "id": "BYr1vtpd8uw4"
   },
   "source": [
    "# 4.모델링\n",
    "\n",
    "- 다음 알고리즘을 사용해 모델링을 진행합니다.\n",
    "    - Logistic Regression\n",
    "    - KNN\n",
    "    - Decision Tree\n",
    "    - Random Forest\n",
    "    - XGBoost\n",
    "- Classification Report를 사용해 성능을 평가합니다.\n",
    "- 성능 평가 결과 아래에 성능에 대한 의견을 정리합니다.\n",
    "- 혼동행렬, 변수 중요도 등을 시각화해 모델을 심도있게 탐색합니다."
   ]
  },
  {
   "cell_type": "markdown",
   "metadata": {
    "id": "Afrof5GglwFU"
   },
   "source": [
    "## 4.1.Logistic Regression"
   ]
  },
  {
   "cell_type": "markdown",
   "metadata": {
    "id": "MRjI4rBsmqhL"
   },
   "source": [
    "### 4.1.1.모델링\n",
    "\n",
    "- Logistic Regression 알고리즘을 사용해 모델링을 진행합니다."
   ]
  },
  {
   "cell_type": "code",
   "execution_count": 23,
   "metadata": {
    "executionInfo": {
     "elapsed": 4,
     "status": "ok",
     "timestamp": 1643288443758,
     "user": {
      "displayName": "Jangrae Lee",
      "photoUrl": "https://lh3.googleusercontent.com/a-/AOh14Gh1Pd8OuWJU2cv7uTt-fURrgvty7atx_Wtarmx0-A=s64",
      "userId": "08475661575434032088"
     },
     "user_tz": -540
    },
    "id": "oRB84_HE8uw5"
   },
   "outputs": [],
   "source": [
    "# 불러오기\n",
    "from sklearn.linear_model import LogisticRegression\n",
    "from sklearn.metrics import confusion_matrix, classification_report"
   ]
  },
  {
   "cell_type": "code",
   "execution_count": 24,
   "metadata": {
    "executionInfo": {
     "elapsed": 4,
     "status": "ok",
     "timestamp": 1643288443759,
     "user": {
      "displayName": "Jangrae Lee",
      "photoUrl": "https://lh3.googleusercontent.com/a-/AOh14Gh1Pd8OuWJU2cv7uTt-fURrgvty7atx_Wtarmx0-A=s64",
      "userId": "08475661575434032088"
     },
     "user_tz": -540
    },
    "id": "UCEKvUAu8uw7"
   },
   "outputs": [],
   "source": [
    "# 선언하기\n",
    "model = LogisticRegression()"
   ]
  },
  {
   "cell_type": "code",
   "execution_count": 25,
   "metadata": {
    "colab": {
     "base_uri": "https://localhost:8080/"
    },
    "executionInfo": {
     "elapsed": 446,
     "status": "ok",
     "timestamp": 1643288444201,
     "user": {
      "displayName": "Jangrae Lee",
      "photoUrl": "https://lh3.googleusercontent.com/a-/AOh14Gh1Pd8OuWJU2cv7uTt-fURrgvty7atx_Wtarmx0-A=s64",
      "userId": "08475661575434032088"
     },
     "user_tz": -540
    },
    "id": "HtRz5Gw6G7IH",
    "outputId": "ecb865c3-11e8-4019-f332-1e422a632992"
   },
   "outputs": [
    {
     "data": {
      "text/plain": [
       "LogisticRegression()"
      ]
     },
     "execution_count": 25,
     "metadata": {},
     "output_type": "execute_result"
    }
   ],
   "source": [
    "# 학습하기\n",
    "model.fit(x_train, y_train)"
   ]
  },
  {
   "cell_type": "code",
   "execution_count": 26,
   "metadata": {
    "executionInfo": {
     "elapsed": 7,
     "status": "ok",
     "timestamp": 1643288444201,
     "user": {
      "displayName": "Jangrae Lee",
      "photoUrl": "https://lh3.googleusercontent.com/a-/AOh14Gh1Pd8OuWJU2cv7uTt-fURrgvty7atx_Wtarmx0-A=s64",
      "userId": "08475661575434032088"
     },
     "user_tz": -540
    },
    "id": "UgX-l3rgHDI7"
   },
   "outputs": [],
   "source": [
    "# 예측하기\n",
    "y_pred = model.predict(x_test)"
   ]
  },
  {
   "cell_type": "code",
   "execution_count": 27,
   "metadata": {
    "colab": {
     "base_uri": "https://localhost:8080/"
    },
    "executionInfo": {
     "elapsed": 8,
     "status": "ok",
     "timestamp": 1643288444202,
     "user": {
      "displayName": "Jangrae Lee",
      "photoUrl": "https://lh3.googleusercontent.com/a-/AOh14Gh1Pd8OuWJU2cv7uTt-fURrgvty7atx_Wtarmx0-A=s64",
      "userId": "08475661575434032088"
     },
     "user_tz": -540
    },
    "id": "0ZRwQJXY8uw9",
    "outputId": "450f1589-f4dd-48d0-cc89-1d1ff58e41e8",
    "scrolled": false
   },
   "outputs": [
    {
     "name": "stdout",
     "output_type": "stream",
     "text": [
      "[[ 48  49]\n",
      " [ 31 172]]\n",
      "              precision    recall  f1-score   support\n",
      "\n",
      "           0       0.61      0.49      0.55        97\n",
      "           1       0.78      0.85      0.81       203\n",
      "\n",
      "    accuracy                           0.73       300\n",
      "   macro avg       0.69      0.67      0.68       300\n",
      "weighted avg       0.72      0.73      0.73       300\n",
      "\n"
     ]
    }
   ],
   "source": [
    "# 평가하기\n",
    "print(confusion_matrix(y_test, y_pred))\n",
    "print(classification_report(y_test, y_pred))"
   ]
  },
  {
   "cell_type": "markdown",
   "metadata": {
    "id": "emiIJcasujkl"
   },
   "source": [
    "- 로지스틱 회귀모델의 정확도는 0.73\n",
    "- 신용도가 낮은 고객들의 재현율이 0.49로 낮다.\n",
    "- 신용도가 높은 고객들의 경우 정밀도, 재현율 모두 신용도가 낮은 고객들에 비해 높은 편"
   ]
  },
  {
   "cell_type": "markdown",
   "metadata": {
    "id": "WF3sqrbZmqhN"
   },
   "source": [
    "### 4.1.2.모델 탐색(2가지 이상)\n",
    "\n",
    "- 모델에 대해 추가로 살펴보고 의견을 작성합니다."
   ]
  },
  {
   "cell_type": "markdown",
   "metadata": {
    "id": "cRnwo-1CmqhN"
   },
   "source": [
    "**1) Confusion Matrix**\n",
    "\n",
    "- heatmap으로 혼동행렬 시각화"
   ]
  },
  {
   "cell_type": "code",
   "execution_count": 28,
   "metadata": {
    "colab": {
     "base_uri": "https://localhost:8080/",
     "height": 278
    },
    "executionInfo": {
     "elapsed": 829,
     "status": "ok",
     "timestamp": 1643288445026,
     "user": {
      "displayName": "Jangrae Lee",
      "photoUrl": "https://lh3.googleusercontent.com/a-/AOh14Gh1Pd8OuWJU2cv7uTt-fURrgvty7atx_Wtarmx0-A=s64",
      "userId": "08475661575434032088"
     },
     "user_tz": -540
    },
    "id": "WHhXyNYemqhN",
    "outputId": "b49e25f8-d22d-46a9-824c-54110d22eb0b",
    "scrolled": true
   },
   "outputs": [
    {
     "data": {
      "image/png": "[encoded data removed]",
      "text/plain": [
       "<Figure size 432x288 with 2 Axes>"
      ]
     },
     "metadata": {
      "image/png": {
       "height": 248,
       "width": 352
      },
      "needs_background": "light"
     },
     "output_type": "display_data"
    }
   ],
   "source": [
    "import seaborn as sns\n",
    "\n",
    "# 혼동행렬 시각화\n",
    "sns.heatmap(confusion_matrix(y_test, y_pred), annot=True, cmap='Blues', fmt='g')\n",
    "plt.show()"
   ]
  },
  {
   "cell_type": "markdown",
   "metadata": {
    "id": "ScArP_YsmqhN"
   },
   "source": [
    "- 실제 신용도가 높은 고객을 신용도가 높다고 예측한 비율이 가장 높다.\n",
    "- 신용도가 높을 것으로 예측한 고객 중에서 실제로 신용도가 높은 비율도 높다.\n",
    "- 반면, 실제 신용도가 낮은 고객은 신용도가 낮을 것으로 예측한 비율이 낮다."
   ]
  },
  {
   "cell_type": "markdown",
   "metadata": {
    "id": "8V0ksfpamqhN"
   },
   "source": [
    "**2) accuracy_score**\n",
    "\n",
    "- accuracy_score로 로지스틱 회귀 모델의 성능 확인"
   ]
  },
  {
   "cell_type": "code",
   "execution_count": 29,
   "metadata": {
    "colab": {
     "base_uri": "https://localhost:8080/",
     "height": 917
    },
    "executionInfo": {
     "elapsed": 1904,
     "status": "ok",
     "timestamp": 1643288446928,
     "user": {
      "displayName": "Jangrae Lee",
      "photoUrl": "https://lh3.googleusercontent.com/a-/AOh14Gh1Pd8OuWJU2cv7uTt-fURrgvty7atx_Wtarmx0-A=s64",
      "userId": "08475661575434032088"
     },
     "user_tz": -540
    },
    "id": "OICDBqVNf4eX",
    "outputId": "608287cf-accc-4986-84fe-67cb591e6f31"
   },
   "outputs": [
    {
     "name": "stdout",
     "output_type": "stream",
     "text": [
      "0.7333333333333333\n"
     ]
    }
   ],
   "source": [
    "# 불러오기\n",
    "from sklearn.metrics import accuracy_score\n",
    "\n",
    "print(accuracy_score(y_test, y_pred))"
   ]
  },
  {
   "cell_type": "markdown",
   "metadata": {
    "id": "I9-K-jlpnK-c"
   },
   "source": [
    "- 해당 모델의 정확도가 0.73이다."
   ]
  },
  {
   "cell_type": "code",
   "execution_count": 30,
   "metadata": {},
   "outputs": [],
   "source": [
    "# 성능 정보 수집\n",
    "from sklearn.metrics import accuracy_score\n",
    "\n",
    "score={}\n",
    "\n",
    "# 성능 정보 수집\n",
    "score['LogisticRegression'] = accuracy_score(y_test, y_pred)"
   ]
  },
  {
   "cell_type": "markdown",
   "metadata": {
    "id": "qE5wiZsqlwFV"
   },
   "source": [
    "## 4.2.Decision Tree"
   ]
  },
  {
   "cell_type": "markdown",
   "metadata": {
    "id": "SjYn78tQmqhO"
   },
   "source": [
    "### 4.2.1.모델링\n",
    "\n",
    "- Decision Tree 알고리즘을 사용해 모델링을 진행합니다."
   ]
  },
  {
   "cell_type": "code",
   "execution_count": 31,
   "metadata": {
    "executionInfo": {
     "elapsed": 10,
     "status": "ok",
     "timestamp": 1643288446928,
     "user": {
      "displayName": "Jangrae Lee",
      "photoUrl": "https://lh3.googleusercontent.com/a-/AOh14Gh1Pd8OuWJU2cv7uTt-fURrgvty7atx_Wtarmx0-A=s64",
      "userId": "08475661575434032088"
     },
     "user_tz": -540
    },
    "id": "6zD6QSUOlwFV"
   },
   "outputs": [],
   "source": [
    "# 불러오기\n",
    "from sklearn.tree import DecisionTreeClassifier\n",
    "from sklearn.metrics import confusion_matrix, classification_report"
   ]
  },
  {
   "cell_type": "code",
   "execution_count": 32,
   "metadata": {
    "executionInfo": {
     "elapsed": 10,
     "status": "ok",
     "timestamp": 1643288446929,
     "user": {
      "displayName": "Jangrae Lee",
      "photoUrl": "https://lh3.googleusercontent.com/a-/AOh14Gh1Pd8OuWJU2cv7uTt-fURrgvty7atx_Wtarmx0-A=s64",
      "userId": "08475661575434032088"
     },
     "user_tz": -540
    },
    "id": "7aA1drkClwFW"
   },
   "outputs": [],
   "source": [
    "# 선언하기\n",
    "model = DecisionTreeClassifier(random_state=2022)"
   ]
  },
  {
   "cell_type": "code",
   "execution_count": 33,
   "metadata": {
    "colab": {
     "base_uri": "https://localhost:8080/"
    },
    "executionInfo": {
     "elapsed": 10,
     "status": "ok",
     "timestamp": 1643288446929,
     "user": {
      "displayName": "Jangrae Lee",
      "photoUrl": "https://lh3.googleusercontent.com/a-/AOh14Gh1Pd8OuWJU2cv7uTt-fURrgvty7atx_Wtarmx0-A=s64",
      "userId": "08475661575434032088"
     },
     "user_tz": -540
    },
    "id": "icMDCCxVlwFW",
    "outputId": "13eab1fa-e4aa-44d7-bcf0-d02aa8532314"
   },
   "outputs": [
    {
     "data": {
      "text/plain": [
       "DecisionTreeClassifier(random_state=2022)"
      ]
     },
     "execution_count": 33,
     "metadata": {},
     "output_type": "execute_result"
    }
   ],
   "source": [
    "# 학습하기\n",
    "model.fit(x_train, y_train)"
   ]
  },
  {
   "cell_type": "code",
   "execution_count": 34,
   "metadata": {
    "executionInfo": {
     "elapsed": 8,
     "status": "ok",
     "timestamp": 1643288446929,
     "user": {
      "displayName": "Jangrae Lee",
      "photoUrl": "https://lh3.googleusercontent.com/a-/AOh14Gh1Pd8OuWJU2cv7uTt-fURrgvty7atx_Wtarmx0-A=s64",
      "userId": "08475661575434032088"
     },
     "user_tz": -540
    },
    "id": "38mTqeNYlwFW"
   },
   "outputs": [],
   "source": [
    "# 예측하기\n",
    "y_pred = model.predict(x_test)"
   ]
  },
  {
   "cell_type": "code",
   "execution_count": 35,
   "metadata": {
    "colab": {
     "base_uri": "https://localhost:8080/"
    },
    "executionInfo": {
     "elapsed": 9,
     "status": "ok",
     "timestamp": 1643288446930,
     "user": {
      "displayName": "Jangrae Lee",
      "photoUrl": "https://lh3.googleusercontent.com/a-/AOh14Gh1Pd8OuWJU2cv7uTt-fURrgvty7atx_Wtarmx0-A=s64",
      "userId": "08475661575434032088"
     },
     "user_tz": -540
    },
    "id": "e6-DU1-0lwFW",
    "outputId": "7cb80dd8-b9a8-41d0-ecd4-60731f5d9ac2",
    "scrolled": false
   },
   "outputs": [
    {
     "name": "stdout",
     "output_type": "stream",
     "text": [
      "[[ 45  52]\n",
      " [ 57 146]]\n",
      "              precision    recall  f1-score   support\n",
      "\n",
      "           0       0.44      0.46      0.45        97\n",
      "           1       0.74      0.72      0.73       203\n",
      "\n",
      "    accuracy                           0.64       300\n",
      "   macro avg       0.59      0.59      0.59       300\n",
      "weighted avg       0.64      0.64      0.64       300\n",
      "\n"
     ]
    }
   ],
   "source": [
    "# 평가하기\n",
    "print(confusion_matrix(y_test, y_pred))\n",
    "print(classification_report(y_test, y_pred))"
   ]
  },
  {
   "cell_type": "markdown",
   "metadata": {
    "id": "gqsFI9IvmqhP"
   },
   "source": [
    "- 의사결정트리의 정확도는 0.64\n",
    "- 신용도가 낮은 고객들의 재현율이 0.46로 낮다.\n",
    "- 신용도가 높은 고객들의 경우 정밀도, 재현율 모두 신용도가 낮은 고객들에 비해 높은 편"
   ]
  },
  {
   "cell_type": "markdown",
   "metadata": {
    "id": "XDAnmVAAmqhP"
   },
   "source": [
    "### 4.2.2.모델 탐색(2가지 이상)\n",
    "\n",
    "- 모델에 대해 추가로 살펴보고 의견을 작성합니다."
   ]
  },
  {
   "cell_type": "markdown",
   "metadata": {
    "id": "cRnwo-1CmqhN"
   },
   "source": [
    "**1) confusion matrix**\n",
    "\n",
    "- heatmap으로 혼동행렬 시각화"
   ]
  },
  {
   "cell_type": "code",
   "execution_count": 36,
   "metadata": {
    "colab": {
     "base_uri": "https://localhost:8080/",
     "height": 278
    },
    "executionInfo": {
     "elapsed": 829,
     "status": "ok",
     "timestamp": 1643288445026,
     "user": {
      "displayName": "Jangrae Lee",
      "photoUrl": "https://lh3.googleusercontent.com/a-/AOh14Gh1Pd8OuWJU2cv7uTt-fURrgvty7atx_Wtarmx0-A=s64",
      "userId": "08475661575434032088"
     },
     "user_tz": -540
    },
    "id": "WHhXyNYemqhN",
    "outputId": "b49e25f8-d22d-46a9-824c-54110d22eb0b",
    "scrolled": true
   },
   "outputs": [
    {
     "data": {
      "image/png": "[encoded data removed]",
      "text/plain": [
       "<Figure size 432x288 with 2 Axes>"
      ]
     },
     "metadata": {
      "image/png": {
       "height": 248,
       "width": 352
      },
      "needs_background": "light"
     },
     "output_type": "display_data"
    }
   ],
   "source": [
    "# 혼동행렬 시각화\n",
    "import seaborn as sns\n",
    "sns.heatmap(confusion_matrix(y_test, y_pred), annot=True, cmap='Blues', fmt='g')\n",
    "plt.show()"
   ]
  },
  {
   "cell_type": "markdown",
   "metadata": {
    "id": "ScArP_YsmqhN"
   },
   "source": [
    "- 실제 신용도가 높은 고객을 신용도가 높다고 예측한 비율이 가장 높다.\n",
    "- 반면, 신용도가 낮은 고객은 재현율도 정밀도도 약 50%로 모두 낮다."
   ]
  },
  {
   "cell_type": "markdown",
   "metadata": {
    "id": "8V0ksfpamqhN"
   },
   "source": [
    "**2) 변수 중요도**\n",
    "\n",
    "- 모델의 변수들(Features) 중요도를 확인"
   ]
  },
  {
   "cell_type": "code",
   "execution_count": 37,
   "metadata": {
    "colab": {
     "base_uri": "https://localhost:8080/",
     "height": 917
    },
    "executionInfo": {
     "elapsed": 1904,
     "status": "ok",
     "timestamp": 1643288446928,
     "user": {
      "displayName": "Jangrae Lee",
      "photoUrl": "https://lh3.googleusercontent.com/a-/AOh14Gh1Pd8OuWJU2cv7uTt-fURrgvty7atx_Wtarmx0-A=s64",
      "userId": "08475661575434032088"
     },
     "user_tz": -540
    },
    "id": "OICDBqVNf4eX",
    "outputId": "608287cf-accc-4986-84fe-67cb591e6f31",
    "scrolled": true
   },
   "outputs": [
    {
     "data": {
      "image/png": "[encoded data removed]",
      "text/plain": [
       "<Figure size 720x720 with 1 Axes>"
      ]
     },
     "metadata": {
      "image/png": {
       "height": 574,
       "width": 671
      },
      "needs_background": "light"
     },
     "output_type": "display_data"
    }
   ],
   "source": [
    "# 중요도 시각화\n",
    "plt.figure(figsize=(10, 10))\n",
    "plt.barh(list(x), model.feature_importances_)\n",
    "plt.show()"
   ]
  },
  {
   "cell_type": "markdown",
   "metadata": {
    "id": "I9-K-jlpnK-c"
   },
   "source": [
    "- AccountBalance, Age, CreditAmount, CreditDuration의 중요도가 매우 높다.\n",
    "- 범주형 변수들의 중요도는 대체로 낮다."
   ]
  },
  {
   "cell_type": "code",
   "execution_count": 38,
   "metadata": {},
   "outputs": [],
   "source": [
    "# 성능 정보 수집\n",
    "score['Decision Tree'] = accuracy_score(y_test, y_pred)"
   ]
  },
  {
   "cell_type": "markdown",
   "metadata": {
    "id": "E-9d_pPYlwFX"
   },
   "source": [
    "## 4.3.KNN"
   ]
  },
  {
   "cell_type": "markdown",
   "metadata": {
    "id": "D362a8vAmqhR"
   },
   "source": [
    "### 4.3.1.모델링\n",
    "\n",
    "- KNN 알고리즘을 사용해 모델링을 진행합니다."
   ]
  },
  {
   "cell_type": "code",
   "execution_count": 39,
   "metadata": {
    "executionInfo": {
     "elapsed": 11,
     "status": "ok",
     "timestamp": 1643288455949,
     "user": {
      "displayName": "Jangrae Lee",
      "photoUrl": "https://lh3.googleusercontent.com/a-/AOh14Gh1Pd8OuWJU2cv7uTt-fURrgvty7atx_Wtarmx0-A=s64",
      "userId": "08475661575434032088"
     },
     "user_tz": -540
    },
    "id": "wSPJ2-q9lwFX"
   },
   "outputs": [],
   "source": [
    "# 1단계: 불러오기\n",
    "from sklearn.neighbors import KNeighborsClassifier\n",
    "from sklearn.metrics import confusion_matrix, classification_report"
   ]
  },
  {
   "cell_type": "code",
   "execution_count": 40,
   "metadata": {
    "executionInfo": {
     "elapsed": 11,
     "status": "ok",
     "timestamp": 1643288455950,
     "user": {
      "displayName": "Jangrae Lee",
      "photoUrl": "https://lh3.googleusercontent.com/a-/AOh14Gh1Pd8OuWJU2cv7uTt-fURrgvty7atx_Wtarmx0-A=s64",
      "userId": "08475661575434032088"
     },
     "user_tz": -540
    },
    "id": "IzB_jIXJlwFX"
   },
   "outputs": [],
   "source": [
    "# 2단계: 선언하기\n",
    "model = KNeighborsClassifier()"
   ]
  },
  {
   "cell_type": "code",
   "execution_count": 41,
   "metadata": {
    "colab": {
     "base_uri": "https://localhost:8080/"
    },
    "executionInfo": {
     "elapsed": 11,
     "status": "ok",
     "timestamp": 1643288455950,
     "user": {
      "displayName": "Jangrae Lee",
      "photoUrl": "https://lh3.googleusercontent.com/a-/AOh14Gh1Pd8OuWJU2cv7uTt-fURrgvty7atx_Wtarmx0-A=s64",
      "userId": "08475661575434032088"
     },
     "user_tz": -540
    },
    "id": "cUx52SXjlwFX",
    "outputId": "8b4638d1-184b-4b75-9b4a-e2bcc9e7b31c"
   },
   "outputs": [
    {
     "data": {
      "text/plain": [
       "KNeighborsClassifier()"
      ]
     },
     "execution_count": 41,
     "metadata": {},
     "output_type": "execute_result"
    }
   ],
   "source": [
    "# 3단계: 학습하기\n",
    "model.fit(x_train, y_train)"
   ]
  },
  {
   "cell_type": "code",
   "execution_count": 42,
   "metadata": {
    "executionInfo": {
     "elapsed": 8,
     "status": "ok",
     "timestamp": 1643288455951,
     "user": {
      "displayName": "Jangrae Lee",
      "photoUrl": "https://lh3.googleusercontent.com/a-/AOh14Gh1Pd8OuWJU2cv7uTt-fURrgvty7atx_Wtarmx0-A=s64",
      "userId": "08475661575434032088"
     },
     "user_tz": -540
    },
    "id": "RjqqkiPklwFY"
   },
   "outputs": [],
   "source": [
    "# 4단계: 예측하기\n",
    "y_pred = model.predict(x_test)"
   ]
  },
  {
   "cell_type": "code",
   "execution_count": 43,
   "metadata": {
    "colab": {
     "base_uri": "https://localhost:8080/"
    },
    "executionInfo": {
     "elapsed": 8,
     "status": "ok",
     "timestamp": 1643288455951,
     "user": {
      "displayName": "Jangrae Lee",
      "photoUrl": "https://lh3.googleusercontent.com/a-/AOh14Gh1Pd8OuWJU2cv7uTt-fURrgvty7atx_Wtarmx0-A=s64",
      "userId": "08475661575434032088"
     },
     "user_tz": -540
    },
    "id": "7MDgzrXNlwFY",
    "outputId": "3f7cc52c-0e25-4959-df6a-8c6eae5d3412",
    "scrolled": false
   },
   "outputs": [
    {
     "name": "stdout",
     "output_type": "stream",
     "text": [
      "[[ 31  66]\n",
      " [ 30 173]]\n",
      "              precision    recall  f1-score   support\n",
      "\n",
      "           0       0.51      0.32      0.39        97\n",
      "           1       0.72      0.85      0.78       203\n",
      "\n",
      "    accuracy                           0.68       300\n",
      "   macro avg       0.62      0.59      0.59       300\n",
      "weighted avg       0.65      0.68      0.66       300\n",
      "\n"
     ]
    }
   ],
   "source": [
    "# 5단계: 평가하기\n",
    "print(confusion_matrix(y_test, y_pred))\n",
    "print(classification_report(y_test, y_pred))"
   ]
  },
  {
   "cell_type": "markdown",
   "metadata": {
    "id": "x9zN5OSimqhS"
   },
   "source": [
    "- KKN의 정확도는 0.68\n",
    "- 신용도가 낮은 고객들의 재현율이 0.32로 매우 낮다.\n",
    "- 신용도가 높은 고객들의 경우 정밀도, 재현율 모두 신용도가 낮은 고객들에 비해 높은 편"
   ]
  },
  {
   "cell_type": "markdown",
   "metadata": {
    "id": "b0ktlmZfmqhS"
   },
   "source": [
    "### 4.3.2.모델 탐색(1가지 이상)\n",
    "\n",
    "- 모델에 대해 추가로 살펴보고 의견을 작성합니다."
   ]
  },
  {
   "cell_type": "markdown",
   "metadata": {
    "id": "cRnwo-1CmqhN"
   },
   "source": [
    "**1) confusion matrix**\n",
    "\n",
    "- heatmap으로 혼동행렬 시각화"
   ]
  },
  {
   "cell_type": "code",
   "execution_count": 44,
   "metadata": {
    "colab": {
     "base_uri": "https://localhost:8080/",
     "height": 278
    },
    "executionInfo": {
     "elapsed": 829,
     "status": "ok",
     "timestamp": 1643288445026,
     "user": {
      "displayName": "Jangrae Lee",
      "photoUrl": "https://lh3.googleusercontent.com/a-/AOh14Gh1Pd8OuWJU2cv7uTt-fURrgvty7atx_Wtarmx0-A=s64",
      "userId": "08475661575434032088"
     },
     "user_tz": -540
    },
    "id": "WHhXyNYemqhN",
    "outputId": "b49e25f8-d22d-46a9-824c-54110d22eb0b",
    "scrolled": true
   },
   "outputs": [
    {
     "data": {
      "image/png": "[encoded data removed]",
      "text/plain": [
       "<Figure size 432x288 with 2 Axes>"
      ]
     },
     "metadata": {
      "image/png": {
       "height": 248,
       "width": 352
      },
      "needs_background": "light"
     },
     "output_type": "display_data"
    }
   ],
   "source": [
    "# 혼동행렬 시각화\n",
    "import seaborn as sns\n",
    "sns.heatmap(confusion_matrix(y_test, y_pred), annot=True, cmap='Blues', fmt='g')\n",
    "plt.show()"
   ]
  },
  {
   "cell_type": "markdown",
   "metadata": {
    "id": "ScArP_YsmqhN"
   },
   "source": [
    "- 실제 신용도가 높은 고객을 신용도가 높다고 예측한 비율이 가장 높다.\n",
    "- 반면, 신용도가 낮은 고객은 정밀도도 낮지만 재현율이 31 / (31+66)으로 매우 낮다."
   ]
  },
  {
   "cell_type": "code",
   "execution_count": 45,
   "metadata": {},
   "outputs": [],
   "source": [
    "# 성능 정보 수집\n",
    "score['KNN'] = accuracy_score(y_test, y_pred)"
   ]
  },
  {
   "cell_type": "markdown",
   "metadata": {
    "id": "B7C50s_hlwFY"
   },
   "source": [
    "## 4.4.Random Forest"
   ]
  },
  {
   "cell_type": "markdown",
   "metadata": {
    "id": "F-dLvuHgmqhT"
   },
   "source": [
    "### 4.4.1.모델링\n",
    "\n",
    "- Random Forest 알고리즘을 사용해 모델링을 진행합니다."
   ]
  },
  {
   "cell_type": "code",
   "execution_count": 46,
   "metadata": {
    "executionInfo": {
     "elapsed": 9,
     "status": "ok",
     "timestamp": 1643288456453,
     "user": {
      "displayName": "Jangrae Lee",
      "photoUrl": "https://lh3.googleusercontent.com/a-/AOh14Gh1Pd8OuWJU2cv7uTt-fURrgvty7atx_Wtarmx0-A=s64",
      "userId": "08475661575434032088"
     },
     "user_tz": -540
    },
    "id": "JV6TXa68lwFZ"
   },
   "outputs": [],
   "source": [
    "# 1단계: 불러오기\n",
    "from sklearn.ensemble import RandomForestClassifier\n",
    "from sklearn.metrics import confusion_matrix, classification_report"
   ]
  },
  {
   "cell_type": "code",
   "execution_count": 47,
   "metadata": {
    "executionInfo": {
     "elapsed": 9,
     "status": "ok",
     "timestamp": 1643288456454,
     "user": {
      "displayName": "Jangrae Lee",
      "photoUrl": "https://lh3.googleusercontent.com/a-/AOh14Gh1Pd8OuWJU2cv7uTt-fURrgvty7atx_Wtarmx0-A=s64",
      "userId": "08475661575434032088"
     },
     "user_tz": -540
    },
    "id": "qEYlSsaelwFZ"
   },
   "outputs": [],
   "source": [
    "# 2단계: 선언하기\n",
    "model = RandomForestClassifier(random_state=2022)"
   ]
  },
  {
   "cell_type": "code",
   "execution_count": 48,
   "metadata": {
    "colab": {
     "base_uri": "https://localhost:8080/"
    },
    "executionInfo": {
     "elapsed": 9,
     "status": "ok",
     "timestamp": 1643288456454,
     "user": {
      "displayName": "Jangrae Lee",
      "photoUrl": "https://lh3.googleusercontent.com/a-/AOh14Gh1Pd8OuWJU2cv7uTt-fURrgvty7atx_Wtarmx0-A=s64",
      "userId": "08475661575434032088"
     },
     "user_tz": -540
    },
    "id": "LaAgAwE8lwFZ",
    "outputId": "5a43bee6-0f9e-44f9-8418-3837131bfca1"
   },
   "outputs": [
    {
     "data": {
      "text/plain": [
       "RandomForestClassifier(random_state=2022)"
      ]
     },
     "execution_count": 48,
     "metadata": {},
     "output_type": "execute_result"
    }
   ],
   "source": [
    "# 3단계: 학습하기\n",
    "model.fit(x_train, y_train)"
   ]
  },
  {
   "cell_type": "code",
   "execution_count": 49,
   "metadata": {
    "executionInfo": {
     "elapsed": 7,
     "status": "ok",
     "timestamp": 1643288456455,
     "user": {
      "displayName": "Jangrae Lee",
      "photoUrl": "https://lh3.googleusercontent.com/a-/AOh14Gh1Pd8OuWJU2cv7uTt-fURrgvty7atx_Wtarmx0-A=s64",
      "userId": "08475661575434032088"
     },
     "user_tz": -540
    },
    "id": "OUZPoFfAlwFZ"
   },
   "outputs": [],
   "source": [
    "# 4단계: 예측하기\n",
    "y_pred = model.predict(x_test)"
   ]
  },
  {
   "cell_type": "code",
   "execution_count": 50,
   "metadata": {
    "colab": {
     "base_uri": "https://localhost:8080/"
    },
    "executionInfo": {
     "elapsed": 7,
     "status": "ok",
     "timestamp": 1643288456455,
     "user": {
      "displayName": "Jangrae Lee",
      "photoUrl": "https://lh3.googleusercontent.com/a-/AOh14Gh1Pd8OuWJU2cv7uTt-fURrgvty7atx_Wtarmx0-A=s64",
      "userId": "08475661575434032088"
     },
     "user_tz": -540
    },
    "id": "feP2DrFklwFa",
    "outputId": "01ca7075-7559-47be-b5da-fe04f4090324",
    "scrolled": false
   },
   "outputs": [
    {
     "name": "stdout",
     "output_type": "stream",
     "text": [
      "[[ 39  58]\n",
      " [ 28 175]]\n",
      "              precision    recall  f1-score   support\n",
      "\n",
      "           0       0.58      0.40      0.48        97\n",
      "           1       0.75      0.86      0.80       203\n",
      "\n",
      "    accuracy                           0.71       300\n",
      "   macro avg       0.67      0.63      0.64       300\n",
      "weighted avg       0.70      0.71      0.70       300\n",
      "\n"
     ]
    }
   ],
   "source": [
    "# 5단계: 평가하기\n",
    "print(confusion_matrix(y_test, y_pred))\n",
    "print(classification_report(y_test, y_pred))"
   ]
  },
  {
   "cell_type": "markdown",
   "metadata": {
    "id": "RPy1GcRhmqhU"
   },
   "source": [
    "- Random Forest의 정확도는 0.71\n",
    "- 신용도가 낮은 고객들의 재현율이 0.40로 낮다.\n",
    "- 신용도가 높은 고객들의 경우 정밀도, 재현율 모두 신용도가 낮은 고객들에 비해 높은 편"
   ]
  },
  {
   "cell_type": "markdown",
   "metadata": {
    "id": "otI4ZYzsmqhU"
   },
   "source": [
    "### 4.4.2.모델 탐색(2가지 이상)\n",
    "\n",
    "- 모델에 대해 추가로 살펴보고 의견을 작성합니다."
   ]
  },
  {
   "cell_type": "markdown",
   "metadata": {
    "id": "cRnwo-1CmqhN"
   },
   "source": [
    "**1) confusion matrix**\n",
    "\n",
    "- heatmap으로 혼동행렬 시각화"
   ]
  },
  {
   "cell_type": "code",
   "execution_count": 51,
   "metadata": {
    "colab": {
     "base_uri": "https://localhost:8080/",
     "height": 278
    },
    "executionInfo": {
     "elapsed": 829,
     "status": "ok",
     "timestamp": 1643288445026,
     "user": {
      "displayName": "Jangrae Lee",
      "photoUrl": "https://lh3.googleusercontent.com/a-/AOh14Gh1Pd8OuWJU2cv7uTt-fURrgvty7atx_Wtarmx0-A=s64",
      "userId": "08475661575434032088"
     },
     "user_tz": -540
    },
    "id": "WHhXyNYemqhN",
    "outputId": "b49e25f8-d22d-46a9-824c-54110d22eb0b",
    "scrolled": true
   },
   "outputs": [
    {
     "data": {
      "image/png": "[encoded data removed]",
      "text/plain": [
       "<Figure size 432x288 with 2 Axes>"
      ]
     },
     "metadata": {
      "image/png": {
       "height": 248,
       "width": 352
      },
      "needs_background": "light"
     },
     "output_type": "display_data"
    }
   ],
   "source": [
    "# 혼동행렬 시각화\n",
    "import seaborn as sns\n",
    "sns.heatmap(confusion_matrix(y_test, y_pred), annot=True, cmap='Blues', fmt='g')\n",
    "plt.show()"
   ]
  },
  {
   "cell_type": "markdown",
   "metadata": {
    "id": "ScArP_YsmqhN"
   },
   "source": [
    "- 실제 신용도가 높은 고객을 신용도가 높다고 예측한 비율이 가장 높다.\n",
    "- 반면, 신용도가 낮은 고객은 재현율도 정밀도도 모두 낮다."
   ]
  },
  {
   "cell_type": "markdown",
   "metadata": {
    "id": "8V0ksfpamqhN"
   },
   "source": [
    "**2) 변수 중요도**\n",
    "\n",
    "- 모델의 feature_importances_ 속성으로 변수들(Features) 중요도를 확인합니다."
   ]
  },
  {
   "cell_type": "code",
   "execution_count": 52,
   "metadata": {
    "colab": {
     "base_uri": "https://localhost:8080/",
     "height": 917
    },
    "executionInfo": {
     "elapsed": 1904,
     "status": "ok",
     "timestamp": 1643288446928,
     "user": {
      "displayName": "Jangrae Lee",
      "photoUrl": "https://lh3.googleusercontent.com/a-/AOh14Gh1Pd8OuWJU2cv7uTt-fURrgvty7atx_Wtarmx0-A=s64",
      "userId": "08475661575434032088"
     },
     "user_tz": -540
    },
    "id": "OICDBqVNf4eX",
    "outputId": "608287cf-accc-4986-84fe-67cb591e6f31"
   },
   "outputs": [
    {
     "data": {
      "image/png": "[encoded data removed]",
      "text/plain": [
       "<Figure size 720x720 with 1 Axes>"
      ]
     },
     "metadata": {
      "image/png": {
       "height": 574,
       "width": 671
      },
      "needs_background": "light"
     },
     "output_type": "display_data"
    }
   ],
   "source": [
    "# 중요도 시각화\n",
    "plt.figure(figsize=(10, 10))\n",
    "plt.barh(list(x), model.feature_importances_)\n",
    "plt.show()"
   ]
  },
  {
   "cell_type": "markdown",
   "metadata": {
    "id": "I9-K-jlpnK-c"
   },
   "source": [
    "- AccountBalance, Age, CreditAmount, CreditDuration의 중요도가 매우 높다.\n",
    "- 범주형 변수들의 중요도는 대체로 낮다."
   ]
  },
  {
   "cell_type": "code",
   "execution_count": 53,
   "metadata": {},
   "outputs": [],
   "source": [
    "# 성능 정보 수집\n",
    "score['Random Forest'] = accuracy_score(y_test, y_pred)"
   ]
  },
  {
   "cell_type": "markdown",
   "metadata": {
    "id": "NmeeJSZslwFa"
   },
   "source": [
    "## 4.5.XGBoost"
   ]
  },
  {
   "cell_type": "markdown",
   "metadata": {
    "id": "iIgORknxmqhW"
   },
   "source": [
    "### 4.5.1.모델링\n",
    "\n",
    "- XGBoost 알고리즘을 사용해 모델링을 진행합니다."
   ]
  },
  {
   "cell_type": "code",
   "execution_count": 54,
   "metadata": {
    "executionInfo": {
     "elapsed": 5,
     "status": "ok",
     "timestamp": 1643288459117,
     "user": {
      "displayName": "Jangrae Lee",
      "photoUrl": "https://lh3.googleusercontent.com/a-/AOh14Gh1Pd8OuWJU2cv7uTt-fURrgvty7atx_Wtarmx0-A=s64",
      "userId": "08475661575434032088"
     },
     "user_tz": -540
    },
    "id": "y43X2sKplwFa"
   },
   "outputs": [],
   "source": [
    "# 1단계: 불러오기\n",
    "from xgboost import XGBClassifier\n",
    "from sklearn.metrics import confusion_matrix, classification_report"
   ]
  },
  {
   "cell_type": "code",
   "execution_count": 55,
   "metadata": {
    "executionInfo": {
     "elapsed": 5,
     "status": "ok",
     "timestamp": 1643288459118,
     "user": {
      "displayName": "Jangrae Lee",
      "photoUrl": "https://lh3.googleusercontent.com/a-/AOh14Gh1Pd8OuWJU2cv7uTt-fURrgvty7atx_Wtarmx0-A=s64",
      "userId": "08475661575434032088"
     },
     "user_tz": -540
    },
    "id": "PYNmzUEflwFa"
   },
   "outputs": [],
   "source": [
    "# 2단계: 선언하기\n",
    "model = XGBClassifier(random_state=2022)"
   ]
  },
  {
   "cell_type": "code",
   "execution_count": 56,
   "metadata": {
    "colab": {
     "base_uri": "https://localhost:8080/"
    },
    "executionInfo": {
     "elapsed": 756,
     "status": "ok",
     "timestamp": 1643288459870,
     "user": {
      "displayName": "Jangrae Lee",
      "photoUrl": "https://lh3.googleusercontent.com/a-/AOh14Gh1Pd8OuWJU2cv7uTt-fURrgvty7atx_Wtarmx0-A=s64",
      "userId": "08475661575434032088"
     },
     "user_tz": -540
    },
    "id": "CoQf9FomlwFb",
    "outputId": "7f2e66a3-7566-4a1c-9559-50c49de96df0"
   },
   "outputs": [
    {
     "name": "stdout",
     "output_type": "stream",
     "text": [
      "[11:42:54] WARNING: C:/Users/Administrator/workspace/xgboost-win64_release_1.5.1/src/learner.cc:1115: Starting in XGBoost 1.3.0, the default evaluation metric used with the objective 'binary:logistic' was changed from 'error' to 'logloss'. Explicitly set eval_metric if you'd like to restore the old behavior.\n"
     ]
    },
    {
     "data": {
      "text/plain": [
       "XGBClassifier(base_score=0.5, booster='gbtree', colsample_bylevel=1,\n",
       "              colsample_bynode=1, colsample_bytree=1, enable_categorical=False,\n",
       "              gamma=0, gpu_id=-1, importance_type=None,\n",
       "              interaction_constraints='', learning_rate=0.300000012,\n",
       "              max_delta_step=0, max_depth=6, min_child_weight=1, missing=nan,\n",
       "              monotone_constraints='()', n_estimators=100, n_jobs=8,\n",
       "              num_parallel_tree=1, predictor='auto', random_state=2022,\n",
       "              reg_alpha=0, reg_lambda=1, scale_pos_weight=1, subsample=1,\n",
       "              tree_method='exact', validate_parameters=1, verbosity=None)"
      ]
     },
     "execution_count": 56,
     "metadata": {},
     "output_type": "execute_result"
    }
   ],
   "source": [
    "# 3단계: 학습하기\n",
    "model.fit(x_train, y_train)"
   ]
  },
  {
   "cell_type": "code",
   "execution_count": 57,
   "metadata": {
    "executionInfo": {
     "elapsed": 8,
     "status": "ok",
     "timestamp": 1643288459871,
     "user": {
      "displayName": "Jangrae Lee",
      "photoUrl": "https://lh3.googleusercontent.com/a-/AOh14Gh1Pd8OuWJU2cv7uTt-fURrgvty7atx_Wtarmx0-A=s64",
      "userId": "08475661575434032088"
     },
     "user_tz": -540
    },
    "id": "K9en8E2clwFb"
   },
   "outputs": [],
   "source": [
    "# 4단계: 예측하기\n",
    "y_pred = model.predict(x_test)"
   ]
  },
  {
   "cell_type": "code",
   "execution_count": 58,
   "metadata": {
    "colab": {
     "base_uri": "https://localhost:8080/"
    },
    "executionInfo": {
     "elapsed": 8,
     "status": "ok",
     "timestamp": 1643288459871,
     "user": {
      "displayName": "Jangrae Lee",
      "photoUrl": "https://lh3.googleusercontent.com/a-/AOh14Gh1Pd8OuWJU2cv7uTt-fURrgvty7atx_Wtarmx0-A=s64",
      "userId": "08475661575434032088"
     },
     "user_tz": -540
    },
    "id": "mWxtrhIPlwFb",
    "outputId": "306778f4-c7a2-417a-913e-5db6213c79c8",
    "scrolled": false
   },
   "outputs": [
    {
     "name": "stdout",
     "output_type": "stream",
     "text": [
      "[[ 52  45]\n",
      " [ 42 161]]\n",
      "              precision    recall  f1-score   support\n",
      "\n",
      "           0       0.55      0.54      0.54        97\n",
      "           1       0.78      0.79      0.79       203\n",
      "\n",
      "    accuracy                           0.71       300\n",
      "   macro avg       0.67      0.66      0.67       300\n",
      "weighted avg       0.71      0.71      0.71       300\n",
      "\n"
     ]
    }
   ],
   "source": [
    "# 5단계: 평가하기\n",
    "print(confusion_matrix(y_test, y_pred))\n",
    "print(classification_report(y_test, y_pred))"
   ]
  },
  {
   "cell_type": "markdown",
   "metadata": {
    "id": "mBhViroDmqhX"
   },
   "source": [
    "- XGBoost의 정확도는 0.71\n",
    "- 신용도가 낮은 고객들의 재현율이 0.54로 낮다.\n",
    "- 신용도가 높은 고객들의 경우 정밀도, 재현율 모두 신용도가 낮은 고객들에 비해 높은 편"
   ]
  },
  {
   "cell_type": "markdown",
   "metadata": {
    "id": "3SUdWsyEmqhX"
   },
   "source": [
    "### 4.5.2.모델 탐색(2가지 이상)\n",
    "\n",
    "- 모델에 대해 추가로 살펴보고 의견을 작성합니다."
   ]
  },
  {
   "cell_type": "markdown",
   "metadata": {
    "id": "cRnwo-1CmqhN"
   },
   "source": [
    "**1) confusion matrix**\n",
    "\n",
    "- heatmap으로 혼동행렬 시각화"
   ]
  },
  {
   "cell_type": "code",
   "execution_count": 59,
   "metadata": {
    "colab": {
     "base_uri": "https://localhost:8080/",
     "height": 278
    },
    "executionInfo": {
     "elapsed": 829,
     "status": "ok",
     "timestamp": 1643288445026,
     "user": {
      "displayName": "Jangrae Lee",
      "photoUrl": "https://lh3.googleusercontent.com/a-/AOh14Gh1Pd8OuWJU2cv7uTt-fURrgvty7atx_Wtarmx0-A=s64",
      "userId": "08475661575434032088"
     },
     "user_tz": -540
    },
    "id": "WHhXyNYemqhN",
    "outputId": "b49e25f8-d22d-46a9-824c-54110d22eb0b",
    "scrolled": true
   },
   "outputs": [
    {
     "data": {
      "image/png": "[encoded data removed]",
      "text/plain": [
       "<Figure size 432x288 with 2 Axes>"
      ]
     },
     "metadata": {
      "image/png": {
       "height": 250,
       "width": 352
      },
      "needs_background": "light"
     },
     "output_type": "display_data"
    }
   ],
   "source": [
    "# 혼동행렬 시각화\n",
    "import seaborn as sns\n",
    "sns.heatmap(confusion_matrix(y_test, y_pred), annot=True, cmap='Blues', fmt='g')\n",
    "plt.show()"
   ]
  },
  {
   "cell_type": "markdown",
   "metadata": {
    "id": "ScArP_YsmqhN"
   },
   "source": [
    "- 실제 신용도가 높은 고객을 신용도가 높다고 예측한 비율이 가장 높다.\n",
    "- 반면, 신용도가 낮은 고객은 재현율도 정밀도도 약 50%로 모두 낮다."
   ]
  },
  {
   "cell_type": "markdown",
   "metadata": {
    "id": "8V0ksfpamqhN"
   },
   "source": [
    "**2) 변수 중요도**\n",
    "\n",
    "- 모델의 feature_importances_ 속성으로 변수들(Features) 중요도를 확인합니다."
   ]
  },
  {
   "cell_type": "code",
   "execution_count": 60,
   "metadata": {
    "colab": {
     "base_uri": "https://localhost:8080/",
     "height": 917
    },
    "executionInfo": {
     "elapsed": 1904,
     "status": "ok",
     "timestamp": 1643288446928,
     "user": {
      "displayName": "Jangrae Lee",
      "photoUrl": "https://lh3.googleusercontent.com/a-/AOh14Gh1Pd8OuWJU2cv7uTt-fURrgvty7atx_Wtarmx0-A=s64",
      "userId": "08475661575434032088"
     },
     "user_tz": -540
    },
    "id": "OICDBqVNf4eX",
    "outputId": "608287cf-accc-4986-84fe-67cb591e6f31"
   },
   "outputs": [
    {
     "data": {
      "image/png": "[encoded data removed]",
      "text/plain": [
       "<Figure size 720x720 with 1 Axes>"
      ]
     },
     "metadata": {
      "image/png": {
       "height": 574,
       "width": 671
      },
      "needs_background": "light"
     },
     "output_type": "display_data"
    }
   ],
   "source": [
    "# 중요도 시각화\n",
    "plt.figure(figsize=(10, 10))\n",
    "plt.barh(list(x), model.feature_importances_)\n",
    "plt.show()"
   ]
  },
  {
   "cell_type": "markdown",
   "metadata": {
    "id": "I9-K-jlpnK-c"
   },
   "source": [
    "- AccountBalance, Payment의 중요도가 가장 두드러진다.\n",
    "- 나머지 변수들의 중요도는 대체로 비슷하다."
   ]
  },
  {
   "cell_type": "code",
   "execution_count": 61,
   "metadata": {},
   "outputs": [],
   "source": [
    "# 성능 정보 수집\n",
    "score['XGBoost'] = accuracy_score(y_test, y_pred)"
   ]
  },
  {
   "cell_type": "markdown",
   "metadata": {
    "id": "v1Nhzu2Su_lD"
   },
   "source": [
    "# 5.모델 성능 비교 및 정리"
   ]
  },
  {
   "cell_type": "markdown",
   "metadata": {
    "id": "tIAXYPwPmqhb"
   },
   "source": [
    "- Accuracy Score로 성능을 비교해보면 Logistic Regression이 0.73으로 가장 뛰어남\n",
    "- 반면, Decision Tree의 정확도는 0.64로 가장 낮음\n",
    "- 앙상블 알고리즘들도 정확도가 0.71로 Logistic Regression 보다 소폭 낮음"
   ]
  },
  {
   "cell_type": "code",
   "execution_count": 62,
   "metadata": {},
   "outputs": [
    {
     "name": "stdout",
     "output_type": "stream",
     "text": [
      "-LogisticRegression: 0.7333\n",
      "-Decision Tree: 0.6367\n",
      "-KNN: 0.6800\n",
      "-Random Forest: 0.7133\n",
      "-XGBoost: 0.7100\n"
     ]
    },
    {
     "data": {
      "image/png": "[encoded data removed]",
      "text/plain": [
       "<Figure size 432x288 with 1 Axes>"
      ]
     },
     "metadata": {
      "image/png": {
       "height": 274,
       "width": 449
      },
      "needs_background": "light"
     },
     "output_type": "display_data"
    }
   ],
   "source": [
    "# 성능 정보\n",
    "for k, v in score.items():\n",
    "    print(f'-{k}: {v:.4f}')\n",
    "\n",
    "# 시각화\n",
    "plt.barh(list(score.keys()), score.values(), alpha=0.7)\n",
    "plt.title('Accuracy', size=15, pad=15)\n",
    "plt.grid(axis='x', linewidth=0.3)\n",
    "plt.show()"
   ]
  },
  {
   "cell_type": "markdown",
   "metadata": {
    "id": "YuLfXFi3mqhc"
   },
   "source": [
    "# 6.성능 튜닝(1개 이상)\n",
    "\n",
    "- 특정 알고리즘의 모델을 튜닝 대상으로 정하고 나름의 방법으로 모델 성능을 높여봅니다."
   ]
  },
  {
   "cell_type": "markdown",
   "metadata": {
    "id": "_jS6PJA8_0f9"
   },
   "source": [
    "## 6.1.Decision Tree튜닝"
   ]
  },
  {
   "cell_type": "markdown",
   "metadata": {},
   "source": [
    "### 6.1.1.튜닝"
   ]
  },
  {
   "cell_type": "code",
   "execution_count": 63,
   "metadata": {
    "executionInfo": {
     "elapsed": 3,
     "status": "ok",
     "timestamp": 1643288461844,
     "user": {
      "displayName": "Jangrae Lee",
      "photoUrl": "https://lh3.googleusercontent.com/a-/AOh14Gh1Pd8OuWJU2cv7uTt-fURrgvty7atx_Wtarmx0-A=s64",
      "userId": "08475661575434032088"
     },
     "user_tz": -540
    },
    "id": "VnIrY0bl2HcH"
   },
   "outputs": [],
   "source": [
    "# 파라미터 선언\n",
    "param = {'max_depth': range(1, 51),\n",
    "            'random_state': range(1, 101)}\n",
    "grid_param = {'max_depth': [2, 3, 4],\n",
    "            'random_state': [52, 53, 54, 55, 56, 57, 58]}"
   ]
  },
  {
   "cell_type": "code",
   "execution_count": 64,
   "metadata": {
    "executionInfo": {
     "elapsed": 4,
     "status": "ok",
     "timestamp": 1643288461845,
     "user": {
      "displayName": "Jangrae Lee",
      "photoUrl": "https://lh3.googleusercontent.com/a-/AOh14Gh1Pd8OuWJU2cv7uTt-fURrgvty7atx_Wtarmx0-A=s64",
      "userId": "08475661575434032088"
     },
     "user_tz": -540
    },
    "id": "BViAiJLP2HcH"
   },
   "outputs": [],
   "source": [
    "# 불러오기\n",
    "from sklearn.model_selection import RandomizedSearchCV\n",
    "from sklearn.model_selection import GridSearchCV"
   ]
  },
  {
   "cell_type": "code",
   "execution_count": 65,
   "metadata": {
    "colab": {
     "base_uri": "https://localhost:8080/"
    },
    "executionInfo": {
     "elapsed": 11252,
     "status": "ok",
     "timestamp": 1643288473094,
     "user": {
      "displayName": "Jangrae Lee",
      "photoUrl": "https://lh3.googleusercontent.com/a-/AOh14Gh1Pd8OuWJU2cv7uTt-fURrgvty7atx_Wtarmx0-A=s64",
      "userId": "08475661575434032088"
     },
     "user_tz": -540
    },
    "id": "tK30ig7u2HcI",
    "outputId": "0adcdbc1-7ca7-48c8-f65d-e66682e2a399"
   },
   "outputs": [],
   "source": [
    "# 선언하기\n",
    "model_dt = DecisionTreeClassifier()\n",
    "\n",
    "# Random Search 선언\n",
    "# model = RandomizedSearchCV(model_rf,\n",
    "#                           param,\n",
    "#                           cv=10,\n",
    "#                           n_iter=30,\n",
    "#                           n_jobs=-1)\n",
    "\n",
    "# Grid Search 선언\n",
    "model = GridSearchCV(model_dt,\n",
    "                     grid_param,\n",
    "                     cv=10,\n",
    "                     n_jobs=-1)"
   ]
  },
  {
   "cell_type": "code",
   "execution_count": 66,
   "metadata": {
    "executionInfo": {
     "elapsed": 11,
     "status": "ok",
     "timestamp": 1643288473095,
     "user": {
      "displayName": "Jangrae Lee",
      "photoUrl": "https://lh3.googleusercontent.com/a-/AOh14Gh1Pd8OuWJU2cv7uTt-fURrgvty7atx_Wtarmx0-A=s64",
      "userId": "08475661575434032088"
     },
     "user_tz": -540
    },
    "id": "tFOprOAZ2HcI"
   },
   "outputs": [
    {
     "data": {
      "text/plain": [
       "GridSearchCV(cv=10, estimator=DecisionTreeClassifier(), n_jobs=-1,\n",
       "             param_grid={'max_depth': [2, 3, 4],\n",
       "                         'random_state': [52, 53, 54, 55, 56, 57, 58]})"
      ]
     },
     "execution_count": 66,
     "metadata": {},
     "output_type": "execute_result"
    }
   ],
   "source": [
    "# 학습하기\n",
    "model.fit(x_train, y_train)"
   ]
  },
  {
   "cell_type": "code",
   "execution_count": 67,
   "metadata": {
    "colab": {
     "base_uri": "https://localhost:8080/"
    },
    "executionInfo": {
     "elapsed": 9,
     "status": "ok",
     "timestamp": 1643288473095,
     "user": {
      "displayName": "Jangrae Lee",
      "photoUrl": "https://lh3.googleusercontent.com/a-/AOh14Gh1Pd8OuWJU2cv7uTt-fURrgvty7atx_Wtarmx0-A=s64",
      "userId": "08475661575434032088"
     },
     "user_tz": -540
    },
    "id": "PMzqHapl2HcI",
    "outputId": "1fae783e-d15e-4e9d-bbc4-7e9ef2e04f4c",
    "scrolled": true
   },
   "outputs": [
    {
     "name": "stdout",
     "output_type": "stream",
     "text": [
      "--------------------------------------------------\n",
      "best_param:  {'max_depth': 3, 'random_state': 53}\n",
      "best_score:  0.7285714285714285\n",
      "--------------------------------------------------\n"
     ]
    }
   ],
   "source": [
    "# 결과 확인\n",
    "print('-' * 50)\n",
    "print('best_param: ', model.best_params_)\n",
    "print('best_score: ', model.best_score_)\n",
    "print('-' * 50)"
   ]
  },
  {
   "cell_type": "code",
   "execution_count": 68,
   "metadata": {},
   "outputs": [],
   "source": [
    "# 예측하기\n",
    "y_pred = model.predict(x_test)"
   ]
  },
  {
   "cell_type": "code",
   "execution_count": 69,
   "metadata": {},
   "outputs": [
    {
     "name": "stdout",
     "output_type": "stream",
     "text": [
      "[[ 49  48]\n",
      " [ 37 166]]\n",
      "              precision    recall  f1-score   support\n",
      "\n",
      "           0       0.57      0.51      0.54        97\n",
      "           1       0.78      0.82      0.80       203\n",
      "\n",
      "    accuracy                           0.72       300\n",
      "   macro avg       0.67      0.66      0.67       300\n",
      "weighted avg       0.71      0.72      0.71       300\n",
      "\n"
     ]
    }
   ],
   "source": [
    "# 평가하기\n",
    "print(confusion_matrix(y_test, y_pred))\n",
    "print(classification_report(y_test, y_pred))"
   ]
  },
  {
   "cell_type": "markdown",
   "metadata": {
    "id": "O_ZfMWppvzWV"
   },
   "source": [
    "### 6.1.2.튜닝 결과"
   ]
  },
  {
   "cell_type": "markdown",
   "metadata": {
    "id": "iG6BoG8tvjve"
   },
   "source": [
    "- 의사결정트리의 정확도가 튜닝 전후 0.64 -> 0.72로 개선되었다.\n",
    "- 신용도가 낮은 고객들의 정밀도가 튜닝 전후 0.44 -> 0.57로 개선되었다.\n",
    "- 신용도가 낮은 고객들의 재현율이 튜닝 전후 0.46 -> 0.51로 개선되었다."
   ]
  }
 ],
 "metadata": {
  "colab": {
   "collapsed_sections": [],
   "name": "과제05 - 고객 신용도 예측.ipynb",
   "provenance": [],
   "toc_visible": true
  },
  "kernelspec": {
   "display_name": "Python 3",
   "language": "python",
   "name": "python3"
  }
 },
 "nbformat": 4,
 "nbformat_minor": 1
}
